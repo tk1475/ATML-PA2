{
  "cells": [
    {
      "cell_type": "markdown",
      "id": "KNiYojZPVOjc",
      "metadata": {
        "id": "KNiYojZPVOjc"
      },
      "source": []
    },
    {
      "cell_type": "markdown",
      "id": "Z0D3PagO-Nvw",
      "metadata": {
        "id": "Z0D3PagO-Nvw"
      },
      "source": [
        "### Download & extract PACS dataset (optional)"
      ]
    },
    {
      "cell_type": "code",
      "execution_count": 8,
      "id": "361abd07",
      "metadata": {
        "colab": {
          "base_uri": "https://localhost:8080/",
          "height": 286,
          "referenced_widgets": [
            "ef61c714ebaf4dd895a2472caab8699e",
            "09179e90ceff40bda186454884becf9d",
            "84f3855dea6f4f51bbde3cd0124c8d1d",
            "ace4d4d081d74fafb754a9ffc84f508a",
            "d045dcaacec847909abcac0bdc24a6e1",
            "42792c39c2334d44b99cc9da5760452c",
            "19ab33c2ba0b4304803c0d85424f755b",
            "59dbdf82cf2b4d25abef88226be874e0",
            "1cc271487ce94b26bbe0e890240d8943",
            "cd1ab24f382d4f6c814ccee5e0126674",
            "77f513a61cc348dbb7d3c22a957fa4b9",
            "1d0efcd788ba4d12b75f7b95437dd36c",
            "f3ae51feb79b4d40aadd7e54d8e12082",
            "078502b588504bbdb455e7455a55856d",
            "d79e26cc42e743ed87dfba4c349dcffe",
            "b140de30cda2416d9e87b1d06e8a546d",
            "e555f1ce98dd4eff95c8fe392eedff95",
            "bca06b796b0f4a36b976f1102fdd95c6",
            "cb0dcede52554f7495bea4b77e5e58e3",
            "006a5903642f4ab88fbf62c48683b368",
            "6c7a4683d1c646a096f27f66d2dffba0",
            "d0eeeb5296c049b3beb184557005cc3f",
            "239a80e0e74e4edeb744a3af54fdddb0",
            "44485d0ffe3f41a3be4097752fa258aa",
            "547041253d264eefa8c1de4b2b36748a",
            "7b836857e7e14c00a2d7ec1849e1aa48",
            "bd9825d5397e495a83f2c9e5bf998949",
            "ce4ba47878524f8bbb66a6e340eda288",
            "85073b0548334b8ba893bbbc09dbef17",
            "9f609965c28645498a95e0aa105d652a",
            "3aa237d8ad404fea8840031f503923f9",
            "1f29dc3cbfe4404aae75f38f9068ed00",
            "1e3c6f56387d47c4b5f0a13506e4477a"
          ]
        },
        "id": "361abd07",
        "outputId": "a17eb077-7cf5-40f2-ae23-c1a7d7675649"
      },
      "outputs": [
        {
          "name": "stdout",
          "output_type": "stream",
          "text": [
            "/usr/local/lib/python3.12/dist-packages/huggingface_hub/utils/_auth.py:94: UserWarning: \n",
            "The secret `HF_TOKEN` does not exist in your Colab secrets.\n",
            "To authenticate with the Hugging Face Hub, create a token in your settings tab (https://huggingface.co/settings/tokens), set it as secret in your Google Colab and restart your session.\n",
            "You will be able to reuse this secret in all of your notebooks.\n",
            "Please note that authentication is recommended but still optional to access public models or datasets.\n",
            "  warnings.warn(\n"
          ]
        },
        {
          "output_type": "display_data",
          "data": {
            "text/plain": [
              "README.md: 0.00B [00:00, ?B/s]"
            ],
            "application/vnd.jupyter.widget-view+json": {
              "version_major": 2,
              "version_minor": 0,
              "model_id": "6f088eefe711444c8437f43850e6d756"
            }
          },
          "metadata": {}
        },
        {
          "output_type": "display_data",
          "data": {
            "text/plain": [
              "data/train-00000-of-00001.parquet:   0%|          | 0.00/191M [00:00<?, ?B/s]"
            ],
            "application/vnd.jupyter.widget-view+json": {
              "version_major": 2,
              "version_minor": 0,
              "model_id": "a0dfc413ea0e4d75a5a90f234f7123ca"
            }
          },
          "metadata": {}
        },
        {
          "output_type": "display_data",
          "data": {
            "text/plain": [
              "Generating train split:   0%|          | 0/9991 [00:00<?, ? examples/s]"
            ],
            "application/vnd.jupyter.widget-view+json": {
              "version_major": 2,
              "version_minor": 0,
              "model_id": "4e5c7ee94a584d649745d3f5a9dcccf7"
            }
          },
          "metadata": {}
        },
        {
          "output_type": "stream",
          "name": "stderr",
          "text": [
            "100%|██████████| 9991/9991 [00:13<00:00, 738.81it/s]\n"
          ]
        }
      ],
      "source": [
        "# Install deps (safe to re-run)\n",
        "!pip install datasets pillow tqdm\n",
        "\n",
        "import os, io\n",
        "from PIL import Image\n",
        "from tqdm import tqdm\n",
        "from datasets import load_dataset\n",
        "\n",
        "root = \"/content/data/PACS\"\n",
        "os.makedirs(root, exist_ok=True)\n",
        "\n",
        "ds = load_dataset(\"flwrlabs/pacs\", split=\"train\")\n",
        "\n",
        "if \"category\" in ds.features:\n",
        "    label_field = \"category\"\n",
        "elif \"class\" in ds.features:\n",
        "    label_field = \"class\"\n",
        "elif \"label\" in ds.features:\n",
        "    label_field = \"label\"\n",
        "else:\n",
        "    raise RuntimeError(f\"Unexpected schema: {ds.features}\")\n",
        "\n",
        "def class_name(row):\n",
        "    v = row[label_field]\n",
        "    if isinstance(v, int):\n",
        "        return ds.features[label_field].names[v]\n",
        "    return str(v)\n",
        "\n",
        "# Normalize domains → art_painting/cartoon/photo/sketch\n",
        "def norm_domain(v: str):\n",
        "    s = str(v).strip().lower().replace(\" \", \"_\").replace(\"-\", \"_\")\n",
        "    if s in {\"art_painting\", \"cartoon\", \"photo\", \"sketch\"}:\n",
        "        return s\n",
        "    # map common variants just in case\n",
        "    if s in {\"artpainting\", \"art_paintings\"}:\n",
        "        return \"art_painting\"\n",
        "    return s  # fallback (we'll skip unknowns below)\n",
        "\n",
        "# Write images to /content/data/PACS/<domain>/<class>/<i>.jpg\n",
        "for i, row in tqdm(enumerate(ds), total=len(ds)):\n",
        "    dom = norm_domain(row[\"domain\"])\n",
        "    if dom not in {\"art_painting\", \"cartoon\", \"photo\", \"sketch\"}:\n",
        "        continue  # skip anything weird\n",
        "    cls = class_name(row)\n",
        "    out_dir = os.path.join(root, dom, cls)\n",
        "    os.makedirs(out_dir, exist_ok=True)\n",
        "\n",
        "    img = row[\"image\"]\n",
        "    if not isinstance(img, Image.Image):\n",
        "        # Some datasets provide bytes; convert to PIL.Image\n",
        "        img = Image.open(io.BytesIO(img[\"bytes\"])).convert(\"RGB\")\n",
        "    img.save(os.path.join(out_dir, f\"{i}.jpg\"), quality=95)\n"
      ]
    },
    {
      "cell_type": "markdown",
      "id": "lspNuJ34ZpQs",
      "metadata": {
        "id": "lspNuJ34ZpQs"
      },
      "source": [
        "### Imports, constants, and seed"
      ]
    },
    {
      "cell_type": "code",
      "execution_count": 2,
      "id": "cVNSHBsLZoxJ",
      "metadata": {
        "colab": {
          "base_uri": "https://localhost:8080/"
        },
        "id": "cVNSHBsLZoxJ",
        "outputId": "1eea6fb7-4799-4ddf-e6cd-bce18349c2d2"
      },
      "outputs": [
        {
          "name": "stdout",
          "output_type": "stream",
          "text": [
            "Using device: cuda\n"
          ]
        }
      ],
      "source": [
        "import torch, random, os, numpy as np\n",
        "from torchvision import datasets, transforms\n",
        "from torch.utils.data import DataLoader, ConcatDataset\n",
        "from pathlib import Path\n",
        "import torch\n",
        "import torch.nn as nn\n",
        "import torch.optim as optim\n",
        "from torchvision import models\n",
        "from tqdm import tqdm\n",
        "import numpy as np\n",
        "import pandas as pd\n",
        "import os\n",
        "\n",
        "DATA_ROOT = \"/content/data/PACS\"\n",
        "SOURCES   = [\"art_painting\", \"cartoon\", \"photo\"]\n",
        "TARGET    = \"sketch\"\n",
        "IMG_SIZE  = 224\n",
        "BATCH_SIZE = 64\n",
        "NUM_WORKERS = 2\n",
        "\n",
        "# seed set for reproducibility\n",
        "def set_seed(seed=1337):\n",
        "    random.seed(seed)\n",
        "    np.random.seed(seed)\n",
        "    torch.manual_seed(seed)\n",
        "    torch.cuda.manual_seed_all(seed)\n",
        "    torch.backends.cudnn.deterministic = True\n",
        "    torch.backends.cudnn.benchmark = False\n",
        "\n",
        "set_seed(1337)\n",
        "device = torch.device(\"cuda\" if torch.cuda.is_available() else \"cpu\")\n",
        "print(\"Using device:\", device)\n"
      ]
    },
    {
      "cell_type": "markdown",
      "id": "I7XLJ9EHN8Ll",
      "metadata": {
        "id": "I7XLJ9EHN8Ll"
      },
      "source": []
    },
    {
      "cell_type": "code",
      "execution_count": 3,
      "id": "01Z-gRAtZ8oT",
      "metadata": {
        "colab": {
          "base_uri": "https://localhost:8080/"
        },
        "id": "01Z-gRAtZ8oT",
        "outputId": "81c10c06-2cc5-47e8-b81a-19e8ff20e305"
      },
      "outputs": [
        {
          "name": "stdout",
          "output_type": "stream",
          "text": [
            "Train size: 6062 | Num classes: 7\n",
            "Domains loaded: ['art_painting', 'cartoon', 'photo', 'sketch']\n",
            "Classes: ['dog', 'elephant', 'giraffe', 'guitar', 'horse', 'house', 'person']\n"
          ]
        }
      ],
      "source": [
        "_to_rgb = transforms.Lambda(lambda im: im.convert(\"RGB\"))\n",
        "\n",
        "def make_loaders(data_root, img_size=224, batch_size=64, num_workers=2, sources=None, target=None):\n",
        "    tfm_train = transforms.Compose([\n",
        "        _to_rgb,\n",
        "        transforms.RandomResizedCrop(img_size, scale=(0.7, 1.0)),\n",
        "        transforms.RandomHorizontalFlip(),\n",
        "        transforms.ColorJitter(0.1, 0.1, 0.1, 0.05),\n",
        "        transforms.ToTensor(),\n",
        "        transforms.Normalize([0.485,0.456,0.406],[0.229,0.224,0.225]),\n",
        "    ])\n",
        "    tfm_eval = transforms.Compose([\n",
        "        _to_rgb,\n",
        "        transforms.Resize(256),\n",
        "        transforms.CenterCrop(img_size),\n",
        "        transforms.ToTensor(),\n",
        "        transforms.Normalize([0.485,0.456,0.406],[0.229,0.224,0.225]),\n",
        "    ])\n",
        "\n",
        "    def load_domain(name, tfm):\n",
        "        p = Path(data_root)/name\n",
        "        assert p.exists(), f\"Missing domain folder: {p}\"\n",
        "        return datasets.ImageFolder(str(p), transform=tfm)\n",
        "\n",
        "    # Build datasets\n",
        "    src_train, per_domain_eval = [], {}\n",
        "    class_to_idx = None\n",
        "\n",
        "    for d in sources:\n",
        "        ds_tr = load_domain(d, tfm_train)\n",
        "        ds_ev = load_domain(d, tfm_eval)\n",
        "        if class_to_idx is None:\n",
        "            class_to_idx = ds_tr.class_to_idx\n",
        "        else:\n",
        "            assert ds_tr.class_to_idx == class_to_idx, \"Class mapping differs across domains.\"\n",
        "        assert ds_ev.class_to_idx == class_to_idx\n",
        "        src_train.append(ds_tr)\n",
        "        per_domain_eval[d] = ds_ev\n",
        "\n",
        "    target_eval = load_domain(target, tfm_eval)\n",
        "    assert target_eval.class_to_idx == class_to_idx\n",
        "    per_domain_eval[target] = target_eval\n",
        "\n",
        "    # Loaders\n",
        "    train_ds = ConcatDataset(src_train)\n",
        "    train_loader = DataLoader(\n",
        "        train_ds, batch_size=batch_size, shuffle=True,\n",
        "        num_workers=num_workers, pin_memory=True,\n",
        "        persistent_workers=(num_workers > 0), drop_last=True\n",
        "    )\n",
        "    eval_loaders = {\n",
        "        d: DataLoader(ds, batch_size=batch_size, shuffle=False,\n",
        "                      num_workers=num_workers, pin_memory=True,\n",
        "                      persistent_workers=(num_workers > 0))\n",
        "        for d, ds in per_domain_eval.items()\n",
        "    }\n",
        "\n",
        "    num_classes = len(target_eval.classes)\n",
        "    return train_loader, eval_loaders, num_classes, target_eval.classes\n",
        "\n",
        "train_loader, eval_loaders, num_classes, classes = make_loaders(\n",
        "    DATA_ROOT, IMG_SIZE, BATCH_SIZE, NUM_WORKERS, SOURCES, TARGET\n",
        ")\n",
        "print(f\"Train size: {len(train_loader.dataset)} | Num classes: {num_classes}\")\n",
        "print(\"Domains loaded:\", list(eval_loaders.keys()))\n",
        "print(\"Classes:\", classes)"
      ]
    },
    {
      "cell_type": "code",
      "execution_count": 4,
      "id": "0SiUxPTkaLYA",
      "metadata": {
        "id": "0SiUxPTkaLYA"
      },
      "outputs": [],
      "source": [
        "def build_resnet50(num_classes: int):\n",
        "    # pretrained ResNet-50, replace final layer\n",
        "    m = models.resnet50(weights=models.ResNet50_Weights.IMAGENET1K_V2)\n",
        "    m.fc = nn.Linear(m.fc.in_features, num_classes)\n",
        "    return m\n",
        "\n",
        "@torch.no_grad()\n",
        "def evaluate(model, loaders, device):\n",
        "    model.eval()\n",
        "    acc = {}\n",
        "    for dname, loader in loaders.items():\n",
        "        correct, total = 0, 0\n",
        "        for x, y in loader:\n",
        "            x, y = x.to(device), y.to(device)\n",
        "            logits = model(x)\n",
        "            pred = logits.argmax(1)\n",
        "            correct += (pred == y).sum().item()\n",
        "            total   += y.numel()\n",
        "        acc[dname] = correct / max(total, 1)\n",
        "    return acc\n",
        "\n",
        "\n",
        "def train_erm(\n",
        "    sources,\n",
        "    target,\n",
        "    train_loader,\n",
        "    eval_loaders,\n",
        "    num_classes,\n",
        "    epochs=20,\n",
        "    lr=3e-4,\n",
        "    wd=0.05,\n",
        "    out_dir=\"outputs_erm\",\n",
        "    seed=1337,\n",
        "    use_amp=True,\n",
        "):\n",
        "    np.random.seed(seed); torch.manual_seed(seed)\n",
        "\n",
        "    device = torch.device(\"cuda\" if torch.cuda.is_available() else \"cpu\")\n",
        "    model = build_resnet50(num_classes).to(device)\n",
        "\n",
        "    opt   = optim.AdamW(model.parameters(), lr=lr, weight_decay=wd)\n",
        "    sched = optim.lr_scheduler.CosineAnnealingLR(opt, T_max=epochs)\n",
        "    loss_fn = nn.CrossEntropyLoss()\n",
        "    scaler = torch.cuda.amp.GradScaler(enabled=(use_amp and device.type==\"cuda\"))\n",
        "\n",
        "    best_target = 0.0\n",
        "    logs = []\n",
        "    os.makedirs(out_dir, exist_ok=True)\n",
        "\n",
        "    for ep in range(1, epochs+1):\n",
        "        model.train()\n",
        "        running_loss = 0.0\n",
        "        seen = 0\n",
        "\n",
        "        pbar = tqdm(train_loader, desc=f\"Epoch {ep}/{epochs}\", leave=False)\n",
        "        for x, y in pbar:\n",
        "            x, y = x.to(device), y.to(device)\n",
        "            opt.zero_grad(set_to_none=True)\n",
        "\n",
        "            with torch.cuda.amp.autocast(enabled=(use_amp and device.type==\"cuda\")):\n",
        "                logits = model(x)\n",
        "                loss = loss_fn(logits, y)\n",
        "\n",
        "            scaler.scale(loss).backward()\n",
        "            scaler.step(opt)\n",
        "            scaler.update()\n",
        "\n",
        "            running_loss += loss.item() * y.size(0)\n",
        "            seen += y.size(0)\n",
        "\n",
        "        sched.step()\n",
        "\n",
        "        acc = evaluate(model, eval_loaders, device)\n",
        "        src_accs = [acc[d] for d in sources]\n",
        "        avg_src = float(np.mean(src_accs))\n",
        "        worst_src = float(min(src_accs))\n",
        "\n",
        "        # Log\n",
        "        row = {\n",
        "            \"epoch\": ep,\n",
        "            \"train_loss\": running_loss / max(seen, 1),\n",
        "            \"target_acc\": acc[target],\n",
        "            \"avg_source_acc\": avg_src,\n",
        "            \"worst_source_acc\": worst_src,\n",
        "        }\n",
        "        for d in sources + [target]:\n",
        "            row[f\"acc_{d}\"] = acc[d]\n",
        "        logs.append(row)\n",
        "\n",
        "        print(f\"[Ep {ep:02d}] loss={row['train_loss']:.4f} | \"\n",
        "              f\"tgt({target})={acc[target]:.3f} | src_avg={avg_src:.3f} | worst_src={worst_src:.3f}\")\n",
        "\n",
        "        # Save best-by-target\n",
        "        if acc[target] > best_target:\n",
        "            best_target = acc[target]\n",
        "            torch.save(model.state_dict(), os.path.join(out_dir, \"best_model.pt\"))\n",
        "\n",
        "    df = pd.DataFrame(logs)\n",
        "    df.to_csv(os.path.join(out_dir, \"training_log.csv\"), index=False)\n",
        "    print(f\"\\nBest target ({target}) accuracy: {best_target:.3f}\")\n",
        "    return df\n"
      ]
    },
    {
      "cell_type": "code",
      "execution_count": 5,
      "id": "ymgHvjtlab8c",
      "metadata": {
        "colab": {
          "base_uri": "https://localhost:8080/",
          "height": 726
        },
        "id": "ymgHvjtlab8c",
        "outputId": "bb4476dc-c648-458a-ef3f-a8983e192073"
      },
      "outputs": [
        {
          "name": "stdout",
          "output_type": "stream",
          "text": [
            "Downloading: \"https://download.pytorch.org/models/resnet50-11ad3fa6.pth\" to /root/.cache/torch/hub/checkpoints/resnet50-11ad3fa6.pth\n"
          ]
        },
        {
          "name": "stderr",
          "output_type": "stream",
          "text": [
            "100%|██████████| 97.8M/97.8M [00:00<00:00, 222MB/s]\n",
            "/tmp/ipython-input-2102803089.py:44: FutureWarning: `torch.cuda.amp.GradScaler(args...)` is deprecated. Please use `torch.amp.GradScaler('cuda', args...)` instead.\n",
            "  scaler = torch.cuda.amp.GradScaler(enabled=(use_amp and device.type==\"cuda\"))\n",
            "Epoch 1/20:   0%|          | 0/94 [00:00<?, ?it/s]/tmp/ipython-input-2102803089.py:60: FutureWarning: `torch.cuda.amp.autocast(args...)` is deprecated. Please use `torch.amp.autocast('cuda', args...)` instead.\n",
            "  with torch.cuda.amp.autocast(enabled=(use_amp and device.type==\"cuda\")):\n"
          ]
        },
        {
          "name": "stdout",
          "output_type": "stream",
          "text": [
            "[Ep 01] loss=0.4052 | tgt(sketch)=0.711 | src_avg=0.967 | worst_src=0.958\n"
          ]
        },
        {
          "name": "stderr",
          "output_type": "stream",
          "text": []
        },
        {
          "name": "stdout",
          "output_type": "stream",
          "text": [
            "[Ep 02] loss=0.1278 | tgt(sketch)=0.582 | src_avg=0.976 | worst_src=0.965\n"
          ]
        },
        {
          "name": "stderr",
          "output_type": "stream",
          "text": []
        },
        {
          "name": "stdout",
          "output_type": "stream",
          "text": [
            "[Ep 03] loss=0.0820 | tgt(sketch)=0.663 | src_avg=0.985 | worst_src=0.980\n"
          ]
        },
        {
          "name": "stderr",
          "output_type": "stream",
          "text": []
        },
        {
          "name": "stdout",
          "output_type": "stream",
          "text": [
            "[Ep 04] loss=0.0750 | tgt(sketch)=0.601 | src_avg=0.990 | worst_src=0.985\n"
          ]
        },
        {
          "name": "stderr",
          "output_type": "stream",
          "text": []
        },
        {
          "name": "stdout",
          "output_type": "stream",
          "text": [
            "[Ep 05] loss=0.0539 | tgt(sketch)=0.549 | src_avg=0.984 | worst_src=0.967\n"
          ]
        },
        {
          "name": "stderr",
          "output_type": "stream",
          "text": []
        },
        {
          "name": "stdout",
          "output_type": "stream",
          "text": [
            "[Ep 06] loss=0.0448 | tgt(sketch)=0.701 | src_avg=0.996 | worst_src=0.992\n"
          ]
        },
        {
          "name": "stderr",
          "output_type": "stream",
          "text": []
        },
        {
          "name": "stdout",
          "output_type": "stream",
          "text": [
            "[Ep 07] loss=0.0387 | tgt(sketch)=0.734 | src_avg=0.995 | worst_src=0.987\n"
          ]
        },
        {
          "name": "stderr",
          "output_type": "stream",
          "text": []
        },
        {
          "name": "stdout",
          "output_type": "stream",
          "text": [
            "[Ep 08] loss=0.0231 | tgt(sketch)=0.644 | src_avg=0.994 | worst_src=0.991\n"
          ]
        },
        {
          "name": "stderr",
          "output_type": "stream",
          "text": []
        },
        {
          "name": "stdout",
          "output_type": "stream",
          "text": [
            "[Ep 09] loss=0.0165 | tgt(sketch)=0.697 | src_avg=0.998 | worst_src=0.998\n"
          ]
        },
        {
          "name": "stderr",
          "output_type": "stream",
          "text": []
        },
        {
          "name": "stdout",
          "output_type": "stream",
          "text": [
            "[Ep 10] loss=0.0224 | tgt(sketch)=0.694 | src_avg=0.997 | worst_src=0.996\n"
          ]
        },
        {
          "name": "stderr",
          "output_type": "stream",
          "text": []
        },
        {
          "name": "stdout",
          "output_type": "stream",
          "text": [
            "[Ep 11] loss=0.0146 | tgt(sketch)=0.724 | src_avg=1.000 | worst_src=0.999\n"
          ]
        },
        {
          "name": "stderr",
          "output_type": "stream",
          "text": []
        },
        {
          "name": "stdout",
          "output_type": "stream",
          "text": [
            "[Ep 12] loss=0.0089 | tgt(sketch)=0.707 | src_avg=0.999 | worst_src=0.998\n"
          ]
        },
        {
          "name": "stderr",
          "output_type": "stream",
          "text": []
        },
        {
          "name": "stdout",
          "output_type": "stream",
          "text": [
            "[Ep 13] loss=0.0076 | tgt(sketch)=0.729 | src_avg=1.000 | worst_src=1.000\n"
          ]
        },
        {
          "name": "stderr",
          "output_type": "stream",
          "text": []
        },
        {
          "name": "stdout",
          "output_type": "stream",
          "text": [
            "[Ep 14] loss=0.0064 | tgt(sketch)=0.700 | src_avg=1.000 | worst_src=1.000\n"
          ]
        },
        {
          "name": "stderr",
          "output_type": "stream",
          "text": []
        },
        {
          "name": "stdout",
          "output_type": "stream",
          "text": [
            "[Ep 15] loss=0.0026 | tgt(sketch)=0.689 | src_avg=1.000 | worst_src=1.000\n"
          ]
        },
        {
          "name": "stderr",
          "output_type": "stream",
          "text": []
        },
        {
          "name": "stdout",
          "output_type": "stream",
          "text": [
            "[Ep 16] loss=0.0032 | tgt(sketch)=0.729 | src_avg=1.000 | worst_src=1.000\n"
          ]
        },
        {
          "name": "stderr",
          "output_type": "stream",
          "text": []
        },
        {
          "name": "stdout",
          "output_type": "stream",
          "text": [
            "[Ep 17] loss=0.0044 | tgt(sketch)=0.728 | src_avg=1.000 | worst_src=1.000\n"
          ]
        },
        {
          "name": "stderr",
          "output_type": "stream",
          "text": []
        },
        {
          "name": "stdout",
          "output_type": "stream",
          "text": [
            "[Ep 18] loss=0.0039 | tgt(sketch)=0.736 | src_avg=1.000 | worst_src=1.000\n"
          ]
        },
        {
          "name": "stderr",
          "output_type": "stream",
          "text": []
        },
        {
          "name": "stdout",
          "output_type": "stream",
          "text": [
            "[Ep 19] loss=0.0029 | tgt(sketch)=0.728 | src_avg=1.000 | worst_src=1.000\n"
          ]
        },
        {
          "name": "stderr",
          "output_type": "stream",
          "text": []
        },
        {
          "name": "stdout",
          "output_type": "stream",
          "text": [
            "[Ep 20] loss=0.0041 | tgt(sketch)=0.729 | src_avg=1.000 | worst_src=1.000\n",
            "\n",
            "Best target (sketch) accuracy: 0.736\n"
          ]
        },
        {
          "data": {
            "application/vnd.google.colaboratory.intrinsic+json": {
              "summary": "{\n  \"name\": \"df_logs\",\n  \"rows\": 5,\n  \"fields\": [\n    {\n      \"column\": \"epoch\",\n      \"properties\": {\n        \"dtype\": \"number\",\n        \"std\": 1,\n        \"min\": 16,\n        \"max\": 20,\n        \"num_unique_values\": 5,\n        \"samples\": [\n          17,\n          20,\n          18\n        ],\n        \"semantic_type\": \"\",\n        \"description\": \"\"\n      }\n    },\n    {\n      \"column\": \"train_loss\",\n      \"properties\": {\n        \"dtype\": \"number\",\n        \"std\": 0.0006406335672700327,\n        \"min\": 0.0028833934759840054,\n        \"max\": 0.00442992101245104,\n        \"num_unique_values\": 5,\n        \"samples\": [\n          0.00442992101245104,\n          0.0040600376124394705,\n          0.00391272633792238\n        ],\n        \"semantic_type\": \"\",\n        \"description\": \"\"\n      }\n    },\n    {\n      \"column\": \"target_acc\",\n      \"properties\": {\n        \"dtype\": \"number\",\n        \"std\": 0.0031738263968795945,\n        \"min\": 0.7281751081700178,\n        \"max\": 0.7358106388393993,\n        \"num_unique_values\": 5,\n        \"samples\": [\n          0.7284296258589972,\n          0.7291931789259354,\n          0.7358106388393993\n        ],\n        \"semantic_type\": \"\",\n        \"description\": \"\"\n      }\n    },\n    {\n      \"column\": \"avg_source_acc\",\n      \"properties\": {\n        \"dtype\": \"number\",\n        \"std\": 0.0,\n        \"min\": 1.0,\n        \"max\": 1.0,\n        \"num_unique_values\": 1,\n        \"samples\": [\n          1.0\n        ],\n        \"semantic_type\": \"\",\n        \"description\": \"\"\n      }\n    },\n    {\n      \"column\": \"worst_source_acc\",\n      \"properties\": {\n        \"dtype\": \"number\",\n        \"std\": 0.0,\n        \"min\": 1.0,\n        \"max\": 1.0,\n        \"num_unique_values\": 1,\n        \"samples\": [\n          1.0\n        ],\n        \"semantic_type\": \"\",\n        \"description\": \"\"\n      }\n    },\n    {\n      \"column\": \"acc_art_painting\",\n      \"properties\": {\n        \"dtype\": \"number\",\n        \"std\": 0.0,\n        \"min\": 1.0,\n        \"max\": 1.0,\n        \"num_unique_values\": 1,\n        \"samples\": [\n          1.0\n        ],\n        \"semantic_type\": \"\",\n        \"description\": \"\"\n      }\n    },\n    {\n      \"column\": \"acc_cartoon\",\n      \"properties\": {\n        \"dtype\": \"number\",\n        \"std\": 0.0,\n        \"min\": 1.0,\n        \"max\": 1.0,\n        \"num_unique_values\": 1,\n        \"samples\": [\n          1.0\n        ],\n        \"semantic_type\": \"\",\n        \"description\": \"\"\n      }\n    },\n    {\n      \"column\": \"acc_photo\",\n      \"properties\": {\n        \"dtype\": \"number\",\n        \"std\": 0.0,\n        \"min\": 1.0,\n        \"max\": 1.0,\n        \"num_unique_values\": 1,\n        \"samples\": [\n          1.0\n        ],\n        \"semantic_type\": \"\",\n        \"description\": \"\"\n      }\n    },\n    {\n      \"column\": \"acc_sketch\",\n      \"properties\": {\n        \"dtype\": \"number\",\n        \"std\": 0.0031738263968795945,\n        \"min\": 0.7281751081700178,\n        \"max\": 0.7358106388393993,\n        \"num_unique_values\": 5,\n        \"samples\": [\n          0.7284296258589972\n        ],\n        \"semantic_type\": \"\",\n        \"description\": \"\"\n      }\n    }\n  ]\n}",
              "type": "dataframe"
            },
            "text/html": [
              "\n",
              "  <div id=\"df-044e83fe-dfe3-4afe-9424-a189e2783a97\" class=\"colab-df-container\">\n",
              "    <div>\n",
              "<style scoped>\n",
              "    .dataframe tbody tr th:only-of-type {\n",
              "        vertical-align: middle;\n",
              "    }\n",
              "\n",
              "    .dataframe tbody tr th {\n",
              "        vertical-align: top;\n",
              "    }\n",
              "\n",
              "    .dataframe thead th {\n",
              "        text-align: right;\n",
              "    }\n",
              "</style>\n",
              "<table border=\"1\" class=\"dataframe\">\n",
              "  <thead>\n",
              "    <tr style=\"text-align: right;\">\n",
              "      <th></th>\n",
              "      <th>epoch</th>\n",
              "      <th>train_loss</th>\n",
              "      <th>target_acc</th>\n",
              "      <th>avg_source_acc</th>\n",
              "      <th>worst_source_acc</th>\n",
              "      <th>acc_art_painting</th>\n",
              "      <th>acc_cartoon</th>\n",
              "      <th>acc_photo</th>\n",
              "      <th>acc_sketch</th>\n",
              "    </tr>\n",
              "  </thead>\n",
              "  <tbody>\n",
              "    <tr>\n",
              "      <th>15</th>\n",
              "      <td>16</td>\n",
              "      <td>0.003183</td>\n",
              "      <td>0.729448</td>\n",
              "      <td>1.0</td>\n",
              "      <td>1.0</td>\n",
              "      <td>1.0</td>\n",
              "      <td>1.0</td>\n",
              "      <td>1.0</td>\n",
              "      <td>0.729448</td>\n",
              "    </tr>\n",
              "    <tr>\n",
              "      <th>16</th>\n",
              "      <td>17</td>\n",
              "      <td>0.004430</td>\n",
              "      <td>0.728430</td>\n",
              "      <td>1.0</td>\n",
              "      <td>1.0</td>\n",
              "      <td>1.0</td>\n",
              "      <td>1.0</td>\n",
              "      <td>1.0</td>\n",
              "      <td>0.728430</td>\n",
              "    </tr>\n",
              "    <tr>\n",
              "      <th>17</th>\n",
              "      <td>18</td>\n",
              "      <td>0.003913</td>\n",
              "      <td>0.735811</td>\n",
              "      <td>1.0</td>\n",
              "      <td>1.0</td>\n",
              "      <td>1.0</td>\n",
              "      <td>1.0</td>\n",
              "      <td>1.0</td>\n",
              "      <td>0.735811</td>\n",
              "    </tr>\n",
              "    <tr>\n",
              "      <th>18</th>\n",
              "      <td>19</td>\n",
              "      <td>0.002883</td>\n",
              "      <td>0.728175</td>\n",
              "      <td>1.0</td>\n",
              "      <td>1.0</td>\n",
              "      <td>1.0</td>\n",
              "      <td>1.0</td>\n",
              "      <td>1.0</td>\n",
              "      <td>0.728175</td>\n",
              "    </tr>\n",
              "    <tr>\n",
              "      <th>19</th>\n",
              "      <td>20</td>\n",
              "      <td>0.004060</td>\n",
              "      <td>0.729193</td>\n",
              "      <td>1.0</td>\n",
              "      <td>1.0</td>\n",
              "      <td>1.0</td>\n",
              "      <td>1.0</td>\n",
              "      <td>1.0</td>\n",
              "      <td>0.729193</td>\n",
              "    </tr>\n",
              "  </tbody>\n",
              "</table>\n",
              "</div>\n",
              "    <div class=\"colab-df-buttons\">\n",
              "\n",
              "  <div class=\"colab-df-container\">\n",
              "    <button class=\"colab-df-convert\" onclick=\"convertToInteractive('df-044e83fe-dfe3-4afe-9424-a189e2783a97')\"\n",
              "            title=\"Convert this dataframe to an interactive table.\"\n",
              "            style=\"display:none;\">\n",
              "\n",
              "  <svg xmlns=\"http://www.w3.org/2000/svg\" height=\"24px\" viewBox=\"0 -960 960 960\">\n",
              "    <path d=\"M120-120v-720h720v720H120Zm60-500h600v-160H180v160Zm220 220h160v-160H400v160Zm0 220h160v-160H400v160ZM180-400h160v-160H180v160Zm440 0h160v-160H620v160ZM180-180h160v-160H180v160Zm440 0h160v-160H620v160Z\"/>\n",
              "  </svg>\n",
              "    </button>\n",
              "\n",
              "  <style>\n",
              "    .colab-df-container {\n",
              "      display:flex;\n",
              "      gap: 12px;\n",
              "    }\n",
              "\n",
              "    .colab-df-convert {\n",
              "      background-color: #E8F0FE;\n",
              "      border: none;\n",
              "      border-radius: 50%;\n",
              "      cursor: pointer;\n",
              "      display: none;\n",
              "      fill: #1967D2;\n",
              "      height: 32px;\n",
              "      padding: 0 0 0 0;\n",
              "      width: 32px;\n",
              "    }\n",
              "\n",
              "    .colab-df-convert:hover {\n",
              "      background-color: #E2EBFA;\n",
              "      box-shadow: 0px 1px 2px rgba(60, 64, 67, 0.3), 0px 1px 3px 1px rgba(60, 64, 67, 0.15);\n",
              "      fill: #174EA6;\n",
              "    }\n",
              "\n",
              "    .colab-df-buttons div {\n",
              "      margin-bottom: 4px;\n",
              "    }\n",
              "\n",
              "    [theme=dark] .colab-df-convert {\n",
              "      background-color: #3B4455;\n",
              "      fill: #D2E3FC;\n",
              "    }\n",
              "\n",
              "    [theme=dark] .colab-df-convert:hover {\n",
              "      background-color: #434B5C;\n",
              "      box-shadow: 0px 1px 3px 1px rgba(0, 0, 0, 0.15);\n",
              "      filter: drop-shadow(0px 1px 2px rgba(0, 0, 0, 0.3));\n",
              "      fill: #FFFFFF;\n",
              "    }\n",
              "  </style>\n",
              "\n",
              "    <script>\n",
              "      const buttonEl =\n",
              "        document.querySelector('#df-044e83fe-dfe3-4afe-9424-a189e2783a97 button.colab-df-convert');\n",
              "      buttonEl.style.display =\n",
              "        google.colab.kernel.accessAllowed ? 'block' : 'none';\n",
              "\n",
              "      async function convertToInteractive(key) {\n",
              "        const element = document.querySelector('#df-044e83fe-dfe3-4afe-9424-a189e2783a97');\n",
              "        const dataTable =\n",
              "          await google.colab.kernel.invokeFunction('convertToInteractive',\n",
              "                                                    [key], {});\n",
              "        if (!dataTable) return;\n",
              "\n",
              "        const docLinkHtml = 'Like what you see? Visit the ' +\n",
              "          '<a target=\"_blank\" href=https://colab.research.google.com/notebooks/data_table.ipynb>data table notebook</a>'\n",
              "          + ' to learn more about interactive tables.';\n",
              "        element.innerHTML = '';\n",
              "        dataTable['output_type'] = 'display_data';\n",
              "        await google.colab.output.renderOutput(dataTable, element);\n",
              "        const docLink = document.createElement('div');\n",
              "        docLink.innerHTML = docLinkHtml;\n",
              "        element.appendChild(docLink);\n",
              "      }\n",
              "    </script>\n",
              "  </div>\n",
              "\n",
              "\n",
              "    <div id=\"df-93bfc6a0-2528-4143-bc8d-c7ed2b41020a\">\n",
              "      <button class=\"colab-df-quickchart\" onclick=\"quickchart('df-93bfc6a0-2528-4143-bc8d-c7ed2b41020a')\"\n",
              "                title=\"Suggest charts\"\n",
              "                style=\"display:none;\">\n",
              "\n",
              "<svg xmlns=\"http://www.w3.org/2000/svg\" height=\"24px\"viewBox=\"0 0 24 24\"\n",
              "     width=\"24px\">\n",
              "    <g>\n",
              "        <path d=\"M19 3H5c-1.1 0-2 .9-2 2v14c0 1.1.9 2 2 2h14c1.1 0 2-.9 2-2V5c0-1.1-.9-2-2-2zM9 17H7v-7h2v7zm4 0h-2V7h2v10zm4 0h-2v-4h2v4z\"/>\n",
              "    </g>\n",
              "</svg>\n",
              "      </button>\n",
              "\n",
              "<style>\n",
              "  .colab-df-quickchart {\n",
              "      --bg-color: #E8F0FE;\n",
              "      --fill-color: #1967D2;\n",
              "      --hover-bg-color: #E2EBFA;\n",
              "      --hover-fill-color: #174EA6;\n",
              "      --disabled-fill-color: #AAA;\n",
              "      --disabled-bg-color: #DDD;\n",
              "  }\n",
              "\n",
              "  [theme=dark] .colab-df-quickchart {\n",
              "      --bg-color: #3B4455;\n",
              "      --fill-color: #D2E3FC;\n",
              "      --hover-bg-color: #434B5C;\n",
              "      --hover-fill-color: #FFFFFF;\n",
              "      --disabled-bg-color: #3B4455;\n",
              "      --disabled-fill-color: #666;\n",
              "  }\n",
              "\n",
              "  .colab-df-quickchart {\n",
              "    background-color: var(--bg-color);\n",
              "    border: none;\n",
              "    border-radius: 50%;\n",
              "    cursor: pointer;\n",
              "    display: none;\n",
              "    fill: var(--fill-color);\n",
              "    height: 32px;\n",
              "    padding: 0;\n",
              "    width: 32px;\n",
              "  }\n",
              "\n",
              "  .colab-df-quickchart:hover {\n",
              "    background-color: var(--hover-bg-color);\n",
              "    box-shadow: 0 1px 2px rgba(60, 64, 67, 0.3), 0 1px 3px 1px rgba(60, 64, 67, 0.15);\n",
              "    fill: var(--button-hover-fill-color);\n",
              "  }\n",
              "\n",
              "  .colab-df-quickchart-complete:disabled,\n",
              "  .colab-df-quickchart-complete:disabled:hover {\n",
              "    background-color: var(--disabled-bg-color);\n",
              "    fill: var(--disabled-fill-color);\n",
              "    box-shadow: none;\n",
              "  }\n",
              "\n",
              "  .colab-df-spinner {\n",
              "    border: 2px solid var(--fill-color);\n",
              "    border-color: transparent;\n",
              "    border-bottom-color: var(--fill-color);\n",
              "    animation:\n",
              "      spin 1s steps(1) infinite;\n",
              "  }\n",
              "\n",
              "  @keyframes spin {\n",
              "    0% {\n",
              "      border-color: transparent;\n",
              "      border-bottom-color: var(--fill-color);\n",
              "      border-left-color: var(--fill-color);\n",
              "    }\n",
              "    20% {\n",
              "      border-color: transparent;\n",
              "      border-left-color: var(--fill-color);\n",
              "      border-top-color: var(--fill-color);\n",
              "    }\n",
              "    30% {\n",
              "      border-color: transparent;\n",
              "      border-left-color: var(--fill-color);\n",
              "      border-top-color: var(--fill-color);\n",
              "      border-right-color: var(--fill-color);\n",
              "    }\n",
              "    40% {\n",
              "      border-color: transparent;\n",
              "      border-right-color: var(--fill-color);\n",
              "      border-top-color: var(--fill-color);\n",
              "    }\n",
              "    60% {\n",
              "      border-color: transparent;\n",
              "      border-right-color: var(--fill-color);\n",
              "    }\n",
              "    80% {\n",
              "      border-color: transparent;\n",
              "      border-right-color: var(--fill-color);\n",
              "      border-bottom-color: var(--fill-color);\n",
              "    }\n",
              "    90% {\n",
              "      border-color: transparent;\n",
              "      border-bottom-color: var(--fill-color);\n",
              "    }\n",
              "  }\n",
              "</style>\n",
              "\n",
              "      <script>\n",
              "        async function quickchart(key) {\n",
              "          const quickchartButtonEl =\n",
              "            document.querySelector('#' + key + ' button');\n",
              "          quickchartButtonEl.disabled = true;  // To prevent multiple clicks.\n",
              "          quickchartButtonEl.classList.add('colab-df-spinner');\n",
              "          try {\n",
              "            const charts = await google.colab.kernel.invokeFunction(\n",
              "                'suggestCharts', [key], {});\n",
              "          } catch (error) {\n",
              "            console.error('Error during call to suggestCharts:', error);\n",
              "          }\n",
              "          quickchartButtonEl.classList.remove('colab-df-spinner');\n",
              "          quickchartButtonEl.classList.add('colab-df-quickchart-complete');\n",
              "        }\n",
              "        (() => {\n",
              "          let quickchartButtonEl =\n",
              "            document.querySelector('#df-93bfc6a0-2528-4143-bc8d-c7ed2b41020a button');\n",
              "          quickchartButtonEl.style.display =\n",
              "            google.colab.kernel.accessAllowed ? 'block' : 'none';\n",
              "        })();\n",
              "      </script>\n",
              "    </div>\n",
              "\n",
              "    </div>\n",
              "  </div>\n"
            ],
            "text/plain": [
              "    epoch  train_loss  target_acc  avg_source_acc  worst_source_acc  \\\n",
              "15     16    0.003183    0.729448             1.0               1.0   \n",
              "16     17    0.004430    0.728430             1.0               1.0   \n",
              "17     18    0.003913    0.735811             1.0               1.0   \n",
              "18     19    0.002883    0.728175             1.0               1.0   \n",
              "19     20    0.004060    0.729193             1.0               1.0   \n",
              "\n",
              "    acc_art_painting  acc_cartoon  acc_photo  acc_sketch  \n",
              "15               1.0          1.0        1.0    0.729448  \n",
              "16               1.0          1.0        1.0    0.728430  \n",
              "17               1.0          1.0        1.0    0.735811  \n",
              "18               1.0          1.0        1.0    0.728175  \n",
              "19               1.0          1.0        1.0    0.729193  "
            ]
          },
          "execution_count": 5,
          "metadata": {},
          "output_type": "execute_result"
        }
      ],
      "source": [
        "# Uses the loaders you already created:\n",
        "# train_loader, eval_loaders, num_classes, classes = make_loaders(...)\n",
        "\n",
        "df_logs = train_erm(\n",
        "    sources=SOURCES,\n",
        "    target=TARGET,\n",
        "    train_loader=train_loader,\n",
        "    eval_loaders=eval_loaders,\n",
        "    num_classes=num_classes,\n",
        "    epochs=20,\n",
        "    lr=3e-4,\n",
        "    wd=0.05,\n",
        "    out_dir=\"outputs_erm\",\n",
        "    seed=1337,\n",
        "    use_amp=True,   # set False if you hit AMP issues\n",
        ")\n",
        "\n",
        "# Peek last few rows\n",
        "df_logs.tail()\n"
      ]
    },
    {
      "cell_type": "code",
      "execution_count": null,
      "id": "nehpNYYiaixX",
      "metadata": {
        "colab": {
          "base_uri": "https://localhost:8080/"
        },
        "id": "nehpNYYiaixX",
        "outputId": "713e5f8d-590b-4263-8e58-2b2ccbf93123"
      },
      "outputs": [
        {
          "data": {
            "text/plain": [
              "{'best_epoch': 18,\n",
              " 'target_sketch_acc': 0.7358,\n",
              " 'avg_source_acc': 1.0,\n",
              " 'worst_source_acc': 1.0,\n",
              " 'art_painting_acc': 1.0,\n",
              " 'cartoon_acc': 1.0,\n",
              " 'photo_acc': 1.0,\n",
              " 'sketch_acc': 0.7358}"
            ]
          },
          "execution_count": 6,
          "metadata": {},
          "output_type": "execute_result"
        }
      ],
      "source": [
        "import pandas as pd\n",
        "\n",
        "log_path = \"outputs_erm/training_log.csv\"\n",
        "df = pd.read_csv(log_path)\n",
        "\n",
        "best_idx = df[\"target_acc\"].idxmax()\n",
        "best = df.iloc[best_idx]\n",
        "\n",
        "summary = {\n",
        "    \"best_epoch\": int(best[\"epoch\"]),\n",
        "    \"target_sketch_acc\": round(float(best[\"target_acc\"]), 4),\n",
        "    \"avg_source_acc\": round(float(best[\"avg_source_acc\"]), 4),\n",
        "    \"worst_source_acc\": round(float(best[\"worst_source_acc\"]), 4),\n",
        "}\n",
        "for d in SOURCES + [TARGET]:\n",
        "    summary[f\"{d}_acc\"] = round(float(best[f\"acc_{d}\"]), 4)\n",
        "\n",
        "summary\n"
      ]
    },
    {
      "cell_type": "markdown",
      "id": "VAg0y8H5yAOQ",
      "metadata": {
        "id": "VAg0y8H5yAOQ"
      },
      "source": [
        "# IRMv1"
      ]
    },
    {
      "cell_type": "code",
      "execution_count": 7,
      "id": "MX3pbWSax_k3",
      "metadata": {
        "id": "MX3pbWSax_k3"
      },
      "outputs": [],
      "source": [
        "\n",
        "_to_rgb = transforms.Lambda(lambda im: im.convert(\"RGB\"))\n",
        "\n",
        "def make_per_domain_train_loaders(data_root, img_size=224, batch_size=12, num_workers=2, sources=None):\n",
        "    # same train transform as before\n",
        "    tfm_train = transforms.Compose([\n",
        "        _to_rgb,\n",
        "        transforms.RandomResizedCrop(img_size, scale=(0.7, 1.0)),\n",
        "        transforms.RandomHorizontalFlip(),\n",
        "        transforms.ColorJitter(0.1,0.1,0.1,0.05),\n",
        "        transforms.ToTensor(),\n",
        "        transforms.Normalize([0.485,0.456,0.406],[0.229,0.224,0.225]),\n",
        "    ])\n",
        "    loaders = {}\n",
        "    class_to_idx = None\n",
        "    for d in sources:\n",
        "        ds = datasets.ImageFolder(str(Path(data_root)/d), transform=tfm_train)\n",
        "        if class_to_idx is None:\n",
        "          class_to_idx = ds.class_to_idx\n",
        "        else:\n",
        "          assert ds.class_to_idx == class_to_idx\n",
        "        loaders[d] = DataLoader(ds, batch_size=batch_size, shuffle=True,\n",
        "                                num_workers=num_workers, pin_memory=True,\n",
        "                                persistent_workers=(num_workers>0), drop_last=True)\n",
        "    return loaders\n"
      ]
    },
    {
      "cell_type": "code",
      "execution_count": 9,
      "id": "vKeTqAZGoRGE",
      "metadata": {
        "id": "vKeTqAZGoRGE"
      },
      "outputs": [],
      "source": [
        "import torch, numpy as np, os, random, itertools\n",
        "import torch.nn as nn\n",
        "import torch.optim as optim\n",
        "from torchvision import models\n",
        "from tqdm import tqdm\n",
        "import pandas as pd\n",
        "from torch.optim.swa_utils import AveragedModel, SWALR\n",
        "\n",
        "def build_resnet50(num_classes: int):\n",
        "    m = models.resnet50(weights=models.ResNet50_Weights.IMAGENET1K_V2)\n",
        "    # freeze all, then unfreeze layer4+layer3 first; we’ll unfreeze layer2 later\n",
        "    for p in m.parameters(): p.requires_grad = False\n",
        "    for p in m.layer4.parameters(): p.requires_grad = True\n",
        "    for p in m.layer3.parameters(): p.requires_grad = True\n",
        "    m.fc = nn.Linear(m.fc.in_features, num_classes)\n",
        "    return m\n",
        "\n",
        "def set_bn_eval(m):\n",
        "    if isinstance(m, torch.nn.modules.batchnorm._BatchNorm):\n",
        "        m.eval()\n",
        "\n",
        "def irm_penalty(loss, dummy_w):\n",
        "    g = torch.autograd.grad(loss, [dummy_w], create_graph=True)[0]\n",
        "    return torch.sum(g**2)\n",
        "\n",
        "def train_irm(\n",
        "    sources, target, per_domain_train_loaders, eval_loaders, num_classes,\n",
        "    epochs, lr=3e-4, wd=0.0, out_dir=\"outputs_irm\",\n",
        "    seed=1337, use_amp=True,\n",
        "    lambda_warmup_epochs = 3,    # long warmup\n",
        "    lambda_after=10.0,\n",
        "    grad_accum_steps=2,\n",
        "    domains_per_step=2,        # 2 domains per step for stable penalty\n",
        "    unfreeze_layer2_at=10,     # give more capacity mid-training\n",
        "    use_swa=True, swa_start=20 # SWA last few epochs\n",
        "):\n",
        "    random.seed(seed); np.random.seed(seed); torch.manual_seed(seed)\n",
        "    device = torch.device(\"cuda\" if torch.cuda.is_available() else \"cpu\")\n",
        "\n",
        "    model = build_resnet50(num_classes).to(device)\n",
        "    model = model.to(memory_format=torch.channels_last)\n",
        "    model.apply(set_bn_eval)  # freeze BN stats\n",
        "\n",
        "    opt   = optim.Adam(filter(lambda p: p.requires_grad, model.parameters()), lr=lr, weight_decay=wd)\n",
        "    sched = torch.optim.lr_scheduler.CosineAnnealingLR(opt, T_max=epochs, eta_min=1e-6)\n",
        "    ce    = nn.CrossEntropyLoss()\n",
        "    scaler = torch.amp.GradScaler('cuda', enabled=(use_amp and device.type=='cuda'))\n",
        "    torch.set_float32_matmul_precision('medium')\n",
        "\n",
        "    # SWA wrapper (activates after swa_start)\n",
        "    swa_model = AveragedModel(model) if use_swa else None\n",
        "    swa_sched = SWALR(opt, swa_lr=lr*0.5) if use_swa else None  # lr will be overridden after swa_start\n",
        "\n",
        "    # Iterators\n",
        "    domain_iters = {d: iter(per_domain_train_loaders[d]) for d in sources}\n",
        "    domains = list(sources)\n",
        "\n",
        "    best_target = 0.0\n",
        "    logs = []\n",
        "    os.makedirs(out_dir, exist_ok=True)\n",
        "\n",
        "    for ep in range(1, epochs+1):\n",
        "        # λ schedule\n",
        "        if ep <= lambda_warmup_epochs:\n",
        "            lam = 1.0\n",
        "        else:\n",
        "            lam = lambda_after\n",
        "        if ep == 6:  # e.g., when changing lam\n",
        "            for g in opt.param_groups:\n",
        "                g['lr'] *= 0.3\n",
        "\n",
        "        # (If you have SWA wired)\n",
        "        if use_swa and ep >= swa_start:\n",
        "            swa_model.update_parameters(model)\n",
        "            swa_sched.step()\n",
        "        else:\n",
        "            sched.step()\n",
        "\n",
        "        # unfreeze layer2 later for extra capacity\n",
        "        if ep == unfreeze_layer2_at:\n",
        "            for p in model.layer2.parameters(): p.requires_grad = True\n",
        "\n",
        "        model.train()\n",
        "        steps = min(len(ld) for ld in per_domain_train_loaders.values())\n",
        "        running_loss = 0.0\n",
        "        running_pen  = 0.0\n",
        "        seen = 0\n",
        "\n",
        "        opt.zero_grad(set_to_none=True)\n",
        "        for step in tqdm(range(steps), desc=f\"[IRM+] Epoch {ep}/{epochs}\", leave=False):\n",
        "            # pick K distinct domains this step\n",
        "            chosen = [domains[(step + k) % len(domains)] for k in range(domains_per_step)]\n",
        "            losses, penalties, batch_sizes = [], [], []\n",
        "\n",
        "            for d in chosen:\n",
        "                try:\n",
        "                    x, y = next(domain_iters[d])\n",
        "                except StopIteration:\n",
        "                    domain_iters[d] = iter(per_domain_train_loaders[d])\n",
        "                    x, y = next(domain_iters[d])\n",
        "\n",
        "                x = x.to(device, memory_format=torch.channels_last, non_blocking=True)\n",
        "                y = y.to(device, non_blocking=True)\n",
        "                w = torch.tensor(1.0, requires_grad=True, device=device)\n",
        "\n",
        "                with torch.amp.autocast('cuda', enabled=(use_amp and device.type==\"cuda\")):\n",
        "                    logits = model(x) * w\n",
        "                    loss_d = ce(logits, y)\n",
        "                pen_d = irm_penalty(loss_d, w)\n",
        "\n",
        "                losses.append(loss_d)\n",
        "                penalties.append(pen_d)\n",
        "                batch_sizes.append(y.size(0))\n",
        "\n",
        "            loss = torch.stack(losses).mean()\n",
        "            penalty = torch.stack(penalties).mean()\n",
        "            total = loss + lam * penalty\n",
        "\n",
        "            scaler.scale(total / grad_accum_steps).backward()\n",
        "            running_loss += total.item() * sum(batch_sizes)\n",
        "            running_pen  += penalty.item() * sum(batch_sizes)\n",
        "            seen += sum(batch_sizes)\n",
        "\n",
        "            if (step + 1) % grad_accum_steps == 0:\n",
        "                torch.nn.utils.clip_grad_norm_(filter(lambda p: p.requires_grad, model.parameters()), 1.0)\n",
        "                scaler.step(opt)\n",
        "                scaler.update()\n",
        "                opt.zero_grad(set_to_none=True)\n",
        "\n",
        "        # LR schedule or SWA phase\n",
        "        if use_swa and ep >= swa_start:\n",
        "            swa_model.update_parameters(model)\n",
        "            swa_sched.step()\n",
        "        else:\n",
        "            sched.step()\n",
        "\n",
        "        # eval helper\n",
        "        @torch.no_grad()\n",
        "        def evaluate(m, loaders):\n",
        "            m.eval(); out={}\n",
        "            for name, ld in loaders.items():\n",
        "                c=t=0\n",
        "                for xb,yb in ld:\n",
        "                    xb = xb.to(device, memory_format=torch.channels_last)\n",
        "                    yb = yb.to(device)\n",
        "                    p = m(xb).argmax(1)\n",
        "                    c += (p==yb).sum().item(); t += yb.numel()\n",
        "                out[name]=c/max(t,1)\n",
        "            return out\n",
        "\n",
        "        # If SWA just started or at the end, update BN for SWA model (needs BN stats)\n",
        "        if use_swa and ep == epochs:\n",
        "            # temporarily un-freeze BN for update_bn\n",
        "            def set_bn_train(m):\n",
        "                if isinstance(m, torch.nn.modules.batchnorm._BatchNorm): m.train()\n",
        "            swa_model.apply(set_bn_train)\n",
        "            torch.optim.swa_utils.update_bn(next(iter(eval_loaders.values())), swa_model, device=device)\n",
        "            acc = evaluate(swa_model, eval_loaders)\n",
        "        else:\n",
        "            acc = evaluate(model, eval_loaders)\n",
        "\n",
        "        src_accs = [acc[d] for d in sources]\n",
        "        avg_src, worst_src = float(np.mean(src_accs)), float(min(src_accs))\n",
        "        row = {\n",
        "            \"epoch\": ep,\n",
        "            \"lambda\": lam,\n",
        "            \"train_loss\": running_loss / max(seen,1),\n",
        "            \"irm_penalty\": running_pen / max(seen,1),\n",
        "            \"target_acc\": acc[target],\n",
        "            \"avg_source_acc\": avg_src,\n",
        "            \"worst_source_acc\": worst_src,\n",
        "        }\n",
        "        for d in sources+[target]:\n",
        "            row[f\"acc_{d}\"] = acc[d]\n",
        "        logs.append(row)\n",
        "\n",
        "        print(f\"[IRM+ Ep {ep:02d}] tgt={acc[target]:.3f} | src_avg={avg_src:.3f} | worst_src={worst_src:.3f} | \"\n",
        "              f\"λ={lam:.2f} | pen={row['irm_penalty']:.4f}\")\n",
        "\n",
        "        if acc[target] > best_target:\n",
        "            best_target = acc[target]\n",
        "            torch.save((swa_model if (use_swa and ep>=swa_start) else model).state_dict(),\n",
        "                       os.path.join(out_dir, \"best_model.pt\"))\n",
        "\n",
        "    df = pd.DataFrame(logs)\n",
        "    os.makedirs(out_dir, exist_ok=True)\n",
        "    df.to_csv(os.path.join(out_dir, \"training_log.csv\"), index=False)\n",
        "    print(f\"\\n✅ IRM+ best target ({target}) acc: {best_target:.3f}\")\n",
        "    return df\n"
      ]
    },
    {
      "cell_type": "code",
      "execution_count": null,
      "id": "2JEAIJnf0yus",
      "metadata": {
        "colab": {
          "base_uri": "https://localhost:8080/"
        },
        "id": "2JEAIJnf0yus",
        "outputId": "ff265341-145b-46ac-f178-90de0a827e80"
      },
      "outputs": [
        {
          "name": "stdout",
          "output_type": "stream",
          "text": [
            "Downloading: \"https://download.pytorch.org/models/resnet50-11ad3fa6.pth\" to /root/.cache/torch/hub/checkpoints/resnet50-11ad3fa6.pth\n"
          ]
        },
        {
          "name": "stderr",
          "output_type": "stream",
          "text": [
            "100%|██████████| 97.8M/97.8M [00:00<00:00, 220MB/s]\n",
            "/usr/local/lib/python3.12/dist-packages/torch/optim/lr_scheduler.py:192: UserWarning: Detected call of `lr_scheduler.step()` before `optimizer.step()`. In PyTorch 1.1.0 and later, you should call them in the opposite order: `optimizer.step()` before `lr_scheduler.step()`.  Failure to do this will result in PyTorch skipping the first value of the learning rate schedule. See more details at https://pytorch.org/docs/stable/optim.html#how-to-adjust-learning-rate\n",
            "  warnings.warn(\n"
          ]
        },
        {
          "name": "stdout",
          "output_type": "stream",
          "text": [
            "[IRM+ Ep 01] tgt=0.583 | src_avg=0.894 | worst_src=0.793 | λ=1.00 | pen=0.0726\n"
          ]
        },
        {
          "name": "stderr",
          "output_type": "stream",
          "text": []
        },
        {
          "name": "stdout",
          "output_type": "stream",
          "text": [
            "[IRM+ Ep 02] tgt=0.689 | src_avg=0.954 | worst_src=0.927 | λ=1.00 | pen=0.0386\n"
          ]
        },
        {
          "name": "stderr",
          "output_type": "stream",
          "text": []
        },
        {
          "name": "stdout",
          "output_type": "stream",
          "text": [
            "[IRM+ Ep 03] tgt=0.710 | src_avg=0.945 | worst_src=0.900 | λ=1.00 | pen=0.0274\n"
          ]
        },
        {
          "name": "stderr",
          "output_type": "stream",
          "text": []
        },
        {
          "name": "stdout",
          "output_type": "stream",
          "text": [
            "[IRM+ Ep 04] tgt=0.550 | src_avg=0.823 | worst_src=0.761 | λ=10.00 | pen=0.0745\n"
          ]
        },
        {
          "name": "stderr",
          "output_type": "stream",
          "text": []
        },
        {
          "name": "stdout",
          "output_type": "stream",
          "text": [
            "[IRM+ Ep 05] tgt=0.603 | src_avg=0.876 | worst_src=0.819 | λ=10.00 | pen=0.0449\n"
          ]
        },
        {
          "name": "stderr",
          "output_type": "stream",
          "text": []
        },
        {
          "name": "stdout",
          "output_type": "stream",
          "text": [
            "[IRM+ Ep 06] tgt=0.651 | src_avg=0.907 | worst_src=0.873 | λ=10.00 | pen=0.0363\n"
          ]
        },
        {
          "name": "stderr",
          "output_type": "stream",
          "text": []
        },
        {
          "name": "stdout",
          "output_type": "stream",
          "text": [
            "[IRM+ Ep 07] tgt=0.657 | src_avg=0.935 | worst_src=0.909 | λ=10.00 | pen=0.0322\n"
          ]
        },
        {
          "name": "stderr",
          "output_type": "stream",
          "text": []
        },
        {
          "name": "stdout",
          "output_type": "stream",
          "text": [
            "[IRM+ Ep 08] tgt=0.684 | src_avg=0.929 | worst_src=0.898 | λ=10.00 | pen=0.0302\n"
          ]
        },
        {
          "name": "stderr",
          "output_type": "stream",
          "text": []
        },
        {
          "name": "stdout",
          "output_type": "stream",
          "text": [
            "[IRM+ Ep 09] tgt=0.666 | src_avg=0.938 | worst_src=0.910 | λ=10.00 | pen=0.0282\n"
          ]
        },
        {
          "name": "stderr",
          "output_type": "stream",
          "text": []
        },
        {
          "name": "stdout",
          "output_type": "stream",
          "text": [
            "[IRM+ Ep 10] tgt=0.697 | src_avg=0.937 | worst_src=0.911 | λ=10.00 | pen=0.0223\n"
          ]
        },
        {
          "name": "stderr",
          "output_type": "stream",
          "text": []
        },
        {
          "name": "stdout",
          "output_type": "stream",
          "text": [
            "[IRM+ Ep 11] tgt=0.673 | src_avg=0.937 | worst_src=0.907 | λ=10.00 | pen=0.0182\n"
          ]
        },
        {
          "name": "stderr",
          "output_type": "stream",
          "text": []
        },
        {
          "name": "stdout",
          "output_type": "stream",
          "text": [
            "[IRM+ Ep 12] tgt=0.656 | src_avg=0.941 | worst_src=0.913 | λ=10.00 | pen=0.0220\n"
          ]
        },
        {
          "name": "stderr",
          "output_type": "stream",
          "text": []
        },
        {
          "name": "stdout",
          "output_type": "stream",
          "text": [
            "[IRM+ Ep 13] tgt=0.698 | src_avg=0.949 | worst_src=0.926 | λ=10.00 | pen=0.0232\n"
          ]
        },
        {
          "name": "stderr",
          "output_type": "stream",
          "text": []
        },
        {
          "name": "stdout",
          "output_type": "stream",
          "text": [
            "[IRM+ Ep 14] tgt=0.686 | src_avg=0.959 | worst_src=0.939 | λ=10.00 | pen=0.0155\n"
          ]
        },
        {
          "name": "stderr",
          "output_type": "stream",
          "text": []
        },
        {
          "name": "stdout",
          "output_type": "stream",
          "text": [
            "[IRM+ Ep 15] tgt=0.735 | src_avg=0.967 | worst_src=0.953 | λ=10.00 | pen=0.0247\n"
          ]
        },
        {
          "name": "stderr",
          "output_type": "stream",
          "text": []
        },
        {
          "name": "stdout",
          "output_type": "stream",
          "text": [
            "[IRM+ Ep 16] tgt=0.775 | src_avg=0.968 | worst_src=0.955 | λ=10.00 | pen=0.0229\n"
          ]
        },
        {
          "name": "stderr",
          "output_type": "stream",
          "text": []
        },
        {
          "name": "stdout",
          "output_type": "stream",
          "text": [
            "[IRM+ Ep 17] tgt=0.736 | src_avg=0.973 | worst_src=0.959 | λ=10.00 | pen=0.0195\n"
          ]
        },
        {
          "name": "stderr",
          "output_type": "stream",
          "text": []
        },
        {
          "name": "stdout",
          "output_type": "stream",
          "text": [
            "[IRM+ Ep 18] tgt=0.757 | src_avg=0.962 | worst_src=0.942 | λ=10.00 | pen=0.0222\n"
          ]
        },
        {
          "name": "stderr",
          "output_type": "stream",
          "text": []
        },
        {
          "name": "stdout",
          "output_type": "stream",
          "text": [
            "[IRM+ Ep 19] tgt=0.640 | src_avg=0.986 | worst_src=0.981 | λ=10.00 | pen=0.0229\n"
          ]
        },
        {
          "name": "stderr",
          "output_type": "stream",
          "text": []
        },
        {
          "name": "stdout",
          "output_type": "stream",
          "text": [
            "[IRM+ Ep 20] tgt=0.682 | src_avg=0.976 | worst_src=0.948 | λ=10.00 | pen=0.0116\n",
            "\n",
            "✅ IRM+ best target (sketch) acc: 0.775\n"
          ]
        },
        {
          "data": {
            "text/plain": [
              "{'best_epoch': 16,\n",
              " 'target_sketch_acc': 0.7753,\n",
              " 'avg_source_acc': 0.968,\n",
              " 'worst_source_acc': 0.9548,\n",
              " 'lambda_used': 10.0,\n",
              " 'irm_penalty_at_best': 0.022888,\n",
              " 'art_painting_acc': 0.9551,\n",
              " 'cartoon_acc': 0.9548,\n",
              " 'photo_acc': 0.994,\n",
              " 'sketch_acc': 0.7753}"
            ]
          },
          "execution_count": 9,
          "metadata": {},
          "output_type": "execute_result"
        }
      ],
      "source": [
        "\n",
        "per_domain_train = make_per_domain_train_loaders(\n",
        "    data_root=DATA_ROOT,\n",
        "    sources=SOURCES,\n",
        ")\n",
        "\n",
        "df_irm = train_irm(\n",
        "    sources=SOURCES,\n",
        "    target=TARGET,\n",
        "    per_domain_train_loaders=per_domain_train,\n",
        "    eval_loaders=eval_loaders,\n",
        "    num_classes=num_classes,\n",
        "    epochs=20,\n",
        "    lr=3e-4,\n",
        "    wd=0.0,\n",
        "    out_dir=\"outputs_irm\",\n",
        "    lambda_warmup_epochs=3,\n",
        "    lambda_after=10.0,\n",
        "    grad_accum_steps=2,\n",
        "    domains_per_step=2,\n",
        "    unfreeze_layer2_at=6,\n",
        "    use_swa=True, swa_start=12,\n",
        ")\n",
        "best_idx = df_irm[\"target_acc\"].idxmax()\n",
        "best = df_irm.iloc[best_idx]\n",
        "{\n",
        "    \"best_epoch\": int(best[\"epoch\"]),\n",
        "    \"target_sketch_acc\": round(float(best[\"target_acc\"]), 4),\n",
        "    \"avg_source_acc\": round(float(best[\"avg_source_acc\"]), 4),\n",
        "    \"worst_source_acc\": round(float(best[\"worst_source_acc\"]), 4),\n",
        "    \"lambda_used\": float(best[\"lambda\"]),\n",
        "    \"irm_penalty_at_best\": round(float(best[\"irm_penalty\"]), 6),\n",
        "    **{f\"{d}_acc\": round(float(best[f\"acc_{d}\"]), 4) for d in SOURCES+[TARGET]}\n",
        "}"
      ]
    },
    {
      "cell_type": "markdown",
      "id": "6pPfzwnB3oYA",
      "metadata": {
        "id": "6pPfzwnB3oYA"
      },
      "source": [
        "# Group-DRO"
      ]
    },
    {
      "cell_type": "code",
      "execution_count": 5,
      "id": "OGeeYusk3ogR",
      "metadata": {
        "id": "OGeeYusk3ogR"
      },
      "outputs": [],
      "source": [
        "class RoundRobinIterator:\n",
        "    def __init__(self, loaders_dict):\n",
        "        self.domains = list(loaders_dict.keys())\n",
        "        self.loaders = loaders_dict\n",
        "        self.iters = {d: iter(loaders_dict[d]) for d in self.domains}\n",
        "        self.ptr = 0\n",
        "    def next_batch(self):\n",
        "        d = self.domains[self.ptr]\n",
        "        self.ptr = (self.ptr + 1) % len(self.domains)\n",
        "        try:\n",
        "            x,y = next(self.iters[d])\n",
        "        except StopIteration:\n",
        "            self.iters[d] = iter(self.loaders[d])\n",
        "            x,y = next(self.iters[d])\n",
        "        return d, x, y\n",
        "\n",
        "@torch.no_grad()\n",
        "def evaluate(model, loaders, device):\n",
        "    model.eval()\n",
        "    out = {}\n",
        "    for name, ld in loaders.items():\n",
        "        c = t = 0\n",
        "        for xb, yb in ld:\n",
        "            xb = xb.to(device, memory_format=torch.channels_last)\n",
        "            yb = yb.to(device)\n",
        "            p = model(xb).argmax(1)\n",
        "            c += (p == yb).sum().item()\n",
        "            t += yb.numel()\n",
        "        out[name] = c / max(t, 1)\n",
        "    return out\n",
        "\n",
        "def train_groupdro(\n",
        "    sources, target, per_domain_train_loaders, eval_loaders, num_classes,\n",
        "    epochs=20, lr=3e-4, wd=0.0, eta=0.03,   # eta = EG step for domain weights\n",
        "    out_dir=\"outputs_groupdro\", seed=1337, use_amp=True\n",
        "):\n",
        "    random.seed(seed); np.random.seed(seed); torch.manual_seed(seed)\n",
        "\n",
        "    device = torch.device(\"cuda\" if torch.cuda.is_available() else \"cpu\")\n",
        "    model = build_resnet50(num_classes).to(device)\n",
        "    model = model.to(memory_format=torch.channels_last)\n",
        "    model.apply(set_bn_eval)\n",
        "\n",
        "    opt   = optim.Adam(filter(lambda p: p.requires_grad, model.parameters()), lr=lr, weight_decay=wd)\n",
        "    sched = torch.optim.lr_scheduler.CosineAnnealingLR(opt, T_max=epochs, eta_min=1e-6)\n",
        "    ce    = nn.CrossEntropyLoss()\n",
        "    scaler = torch.amp.GradScaler('cuda', enabled=(use_amp and device.type=='cuda'))\n",
        "    torch.set_float32_matmul_precision('medium')\n",
        "\n",
        "    # Domain weights q (on simplex), initialized uniform\n",
        "    q = torch.ones(len(sources), device=device) / len(sources)\n",
        "    dom2idx = {d:i for i,d in enumerate(sources)}\n",
        "    iterator = RoundRobinIterator(per_domain_train_loaders)\n",
        "\n",
        "    best_tgt = 0.0\n",
        "    logs = []\n",
        "    os.makedirs(out_dir, exist_ok=True)\n",
        "\n",
        "    steps_per_epoch = min(len(ld) for ld in per_domain_train_loaders.values())\n",
        "\n",
        "    for ep in range(1, epochs+1):\n",
        "        model.train()\n",
        "        for _ in tqdm(range(steps_per_epoch), desc=f\"[GroupDRO] Epoch {ep}/{epochs}\", leave=False):\n",
        "            d, x, y = iterator.next_batch()\n",
        "            x = x.to(device, memory_format=torch.channels_last, non_blocking=True)\n",
        "            y = y.to(device, non_blocking=True)\n",
        "\n",
        "            opt.zero_grad(set_to_none=True)\n",
        "            with torch.amp.autocast('cuda', enabled=(use_amp and device.type=='cuda')):\n",
        "                logits = model(x)\n",
        "                loss_d = ce(logits, y)\n",
        "                loss = q[dom2idx[d]] * loss_d     # weighted current-domain loss\n",
        "\n",
        "            scaler.scale(loss).backward()\n",
        "            torch.nn.utils.clip_grad_norm_(filter(lambda p: p.requires_grad, model.parameters()), 1.0)\n",
        "            scaler.step(opt); scaler.update()\n",
        "\n",
        "            # Exponentiated-gradient update on q (adversarial reweighting)\n",
        "            with torch.no_grad():\n",
        "                # increase weight on domains with higher loss\n",
        "                grad_q = torch.zeros_like(q)\n",
        "                grad_q[dom2idx[d]] = loss_d.detach()\n",
        "                q *= torch.exp(eta * grad_q)\n",
        "                q /= q.sum()  # project back to simplex\n",
        "\n",
        "        sched.step()\n",
        "\n",
        "        # Eval\n",
        "        acc = evaluate(model, eval_loaders, device)\n",
        "        src = [acc[d] for d in sources]\n",
        "        row = {\n",
        "            \"epoch\": ep,\n",
        "            \"target_acc\": acc[target],\n",
        "            \"avg_source_acc\": float(np.mean(src)),\n",
        "            \"worst_source_acc\": float(min(src)),\n",
        "            \"q\": q.detach().float().cpu().numpy().tolist(),\n",
        "            **{f\"acc_{d}\": acc[d] for d in sources+[target]}\n",
        "        }\n",
        "        logs.append(row)\n",
        "        print(f\"[GroupDRO Ep {ep:02d}] tgt={acc[target]:.3f} | src_avg={row['avg_source_acc']:.3f} \"\n",
        "              f\"| worst_src={row['worst_source_acc']:.3f} | q={np.round(row['q'],3)}\")\n",
        "\n",
        "        if acc[target] > best_tgt:\n",
        "            best_tgt = acc[target]\n",
        "            torch.save(model.state_dict(), os.path.join(out_dir, \"best_model.pt\"))\n",
        "\n",
        "    df = pd.DataFrame(logs)\n",
        "    df.to_csv(os.path.join(out_dir, \"training_log.csv\"), index=False)\n",
        "    print(f\"\\n✅ GroupDRO best target ({target}) acc: {best_tgt:.3f}\")\n",
        "    return df"
      ]
    },
    {
      "cell_type": "code",
      "execution_count": 10,
      "id": "9sOazNct4_Tf",
      "metadata": {
        "colab": {
          "base_uri": "https://localhost:8080/"
        },
        "id": "9sOazNct4_Tf",
        "outputId": "76f3093a-4d60-4f3a-855c-cd5236814571"
      },
      "outputs": [
        {
          "metadata": {
            "tags": null
          },
          "name": "stderr",
          "output_type": "stream",
          "text": [
            ""
          ]
        },
        {
          "metadata": {
            "tags": null
          },
          "name": "stdout",
          "output_type": "stream",
          "text": [
            "[GroupDRO Ep 01] tgt=0.432 | src_avg=0.865 | worst_src=0.717 | q=[0.379 0.387 0.234]\n"
          ]
        },
        {
          "metadata": {
            "tags": null
          },
          "name": "stderr",
          "output_type": "stream",
          "text": [
            ""
          ]
        },
        {
          "metadata": {
            "tags": null
          },
          "name": "stdout",
          "output_type": "stream",
          "text": [
            "[GroupDRO Ep 02] tgt=0.609 | src_avg=0.930 | worst_src=0.884 | q=[0.397 0.434 0.169]\n"
          ]
        },
        {
          "metadata": {
            "tags": null
          },
          "name": "stderr",
          "output_type": "stream",
          "text": [
            ""
          ]
        },
        {
          "metadata": {
            "tags": null
          },
          "name": "stdout",
          "output_type": "stream",
          "text": [
            "[GroupDRO Ep 03] tgt=0.616 | src_avg=0.947 | worst_src=0.895 | q=[0.392 0.488 0.12 ]\n"
          ]
        },
        {
          "metadata": {
            "tags": null
          },
          "name": "stderr",
          "output_type": "stream",
          "text": [
            ""
          ]
        },
        {
          "metadata": {
            "tags": null
          },
          "name": "stdout",
          "output_type": "stream",
          "text": [
            "[GroupDRO Ep 04] tgt=0.675 | src_avg=0.951 | worst_src=0.924 | q=[0.389 0.523 0.088]\n"
          ]
        },
        {
          "metadata": {
            "tags": null
          },
          "name": "stderr",
          "output_type": "stream",
          "text": [
            ""
          ]
        },
        {
          "metadata": {
            "tags": null
          },
          "name": "stdout",
          "output_type": "stream",
          "text": [
            "[GroupDRO Ep 05] tgt=0.685 | src_avg=0.967 | worst_src=0.950 | q=[0.392 0.537 0.071]\n"
          ]
        },
        {
          "metadata": {
            "tags": null
          },
          "name": "stderr",
          "output_type": "stream",
          "text": [
            ""
          ]
        },
        {
          "metadata": {
            "tags": null
          },
          "name": "stdout",
          "output_type": "stream",
          "text": [
            "[GroupDRO Ep 06] tgt=0.765 | src_avg=0.963 | worst_src=0.926 | q=[0.396 0.546 0.058]\n"
          ]
        },
        {
          "metadata": {
            "tags": null
          },
          "name": "stderr",
          "output_type": "stream",
          "text": [
            ""
          ]
        },
        {
          "metadata": {
            "tags": null
          },
          "name": "stdout",
          "output_type": "stream",
          "text": [
            "[GroupDRO Ep 07] tgt=0.739 | src_avg=0.966 | worst_src=0.929 | q=[0.405 0.553 0.041]\n"
          ]
        },
        {
          "metadata": {
            "tags": null
          },
          "name": "stderr",
          "output_type": "stream",
          "text": [
            ""
          ]
        },
        {
          "metadata": {
            "tags": null
          },
          "name": "stdout",
          "output_type": "stream",
          "text": [
            "[GroupDRO Ep 08] tgt=0.755 | src_avg=0.968 | worst_src=0.938 | q=[0.381 0.585 0.033]\n"
          ]
        },
        {
          "metadata": {
            "tags": null
          },
          "name": "stderr",
          "output_type": "stream",
          "text": [
            ""
          ]
        },
        {
          "metadata": {
            "tags": null
          },
          "name": "stdout",
          "output_type": "stream",
          "text": [
            "[GroupDRO Ep 09] tgt=0.755 | src_avg=0.967 | worst_src=0.945 | q=[0.367 0.607 0.026]\n"
          ]
        },
        {
          "metadata": {
            "tags": null
          },
          "name": "stderr",
          "output_type": "stream",
          "text": [
            ""
          ]
        },
        {
          "metadata": {
            "tags": null
          },
          "name": "stdout",
          "output_type": "stream",
          "text": [
            "[GroupDRO Ep 10] tgt=0.730 | src_avg=0.960 | worst_src=0.940 | q=[0.366 0.614 0.02 ]\n"
          ]
        },
        {
          "metadata": {
            "tags": null
          },
          "name": "stderr",
          "output_type": "stream",
          "text": [
            ""
          ]
        },
        {
          "metadata": {
            "tags": null
          },
          "name": "stdout",
          "output_type": "stream",
          "text": [
            "[GroupDRO Ep 11] tgt=0.703 | src_avg=0.984 | worst_src=0.972 | q=[0.383 0.603 0.015]\n"
          ]
        },
        {
          "metadata": {
            "tags": null
          },
          "name": "stderr",
          "output_type": "stream",
          "text": [
            ""
          ]
        },
        {
          "metadata": {
            "tags": null
          },
          "name": "stdout",
          "output_type": "stream",
          "text": [
            "[GroupDRO Ep 12] tgt=0.776 | src_avg=0.981 | worst_src=0.970 | q=[0.372 0.615 0.013]\n"
          ]
        },
        {
          "metadata": {
            "tags": null
          },
          "name": "stderr",
          "output_type": "stream",
          "text": [
            ""
          ]
        },
        {
          "metadata": {
            "tags": null
          },
          "name": "stdout",
          "output_type": "stream",
          "text": [
            "[GroupDRO Ep 13] tgt=0.786 | src_avg=0.978 | worst_src=0.958 | q=[0.395 0.594 0.011]\n"
          ]
        },
        {
          "metadata": {
            "tags": null
          },
          "name": "stderr",
          "output_type": "stream",
          "text": [
            ""
          ]
        },
        {
          "metadata": {
            "tags": null
          },
          "name": "stdout",
          "output_type": "stream",
          "text": [
            "[GroupDRO Ep 14] tgt=0.782 | src_avg=0.983 | worst_src=0.972 | q=[0.419 0.572 0.008]\n"
          ]
        },
        {
          "metadata": {
            "tags": null
          },
          "name": "stderr",
          "output_type": "stream",
          "text": [
            ""
          ]
        },
        {
          "metadata": {
            "tags": null
          },
          "name": "stdout",
          "output_type": "stream",
          "text": [
            "[GroupDRO Ep 15] tgt=0.784 | src_avg=0.983 | worst_src=0.970 | q=[0.432 0.562 0.006]\n"
          ]
        },
        {
          "metadata": {
            "tags": null
          },
          "name": "stderr",
          "output_type": "stream",
          "text": [
            ""
          ]
        },
        {
          "metadata": {
            "tags": null
          },
          "name": "stdout",
          "output_type": "stream",
          "text": [
            "[GroupDRO Ep 16] tgt=0.795 | src_avg=0.989 | worst_src=0.975 | q=[0.403 0.591 0.005]\n"
          ]
        },
        {
          "metadata": {
            "tags": null
          },
          "name": "stderr",
          "output_type": "stream",
          "text": [
            ""
          ]
        },
        {
          "metadata": {
            "tags": null
          },
          "name": "stdout",
          "output_type": "stream",
          "text": [
            "[GroupDRO Ep 17] tgt=0.802 | src_avg=0.989 | worst_src=0.975 | q=[0.407 0.588 0.005]\n"
          ]
        },
        {
          "metadata": {
            "tags": null
          },
          "name": "stderr",
          "output_type": "stream",
          "text": [
            ""
          ]
        },
        {
          "metadata": {
            "tags": null
          },
          "name": "stdout",
          "output_type": "stream",
          "text": [
            "[GroupDRO Ep 18] tgt=0.793 | src_avg=0.988 | worst_src=0.975 | q=[0.379 0.617 0.004]\n"
          ]
        },
        {
          "metadata": {
            "tags": null
          },
          "name": "stderr",
          "output_type": "stream",
          "text": [
            ""
          ]
        },
        {
          "metadata": {
            "tags": null
          },
          "name": "stdout",
          "output_type": "stream",
          "text": [
            "[GroupDRO Ep 19] tgt=0.786 | src_avg=0.982 | worst_src=0.964 | q=[0.362 0.635 0.004]\n"
          ]
        },
        {
          "metadata": {
            "tags": null
          },
          "name": "stderr",
          "output_type": "stream",
          "text": [
            ""
          ]
        },
        {
          "metadata": {
            "tags": null
          },
          "name": "stdout",
          "output_type": "stream",
          "text": [
            "[GroupDRO Ep 20] tgt=0.798 | src_avg=0.993 | worst_src=0.985 | q=[0.333 0.664 0.003]\n",
            "\n",
            "✅ GroupDRO best target (sketch) acc: 0.802\n"
          ]
        },
        {
          "data": {
            "text/plain": [
              "{'best_epoch': 17,\n",
              " 'target_sketch_acc': 0.8017,\n",
              " 'avg_source_acc': 0.9888,\n",
              " 'worst_source_acc': 0.9748,\n",
              " 'art_painting_acc': 0.9922,\n",
              " 'cartoon_acc': 0.9748,\n",
              " 'photo_acc': 0.9994,\n",
              " 'sketch_acc': 0.8017,\n",
              " 'q_at_best': [0.4071, 0.5882, 0.0046]}"
            ]
          },
          "execution_count": 10,
          "metadata": {},
          "output_type": "execute_result"
        }
      ],
      "source": [
        "\n",
        "per_domain_train = make_per_domain_train_loaders(\n",
        "    data_root=DATA_ROOT,\n",
        "    sources=SOURCES,\n",
        ")\n",
        "\n",
        "df_gdro = train_groupdro(\n",
        "    sources=SOURCES,\n",
        "    target=TARGET,\n",
        "    per_domain_train_loaders=per_domain_train,\n",
        "    eval_loaders=eval_loaders,\n",
        "    num_classes=num_classes,\n",
        "    epochs=20,        # you can try 20 if it’s stable\n",
        "    lr=3e-4,\n",
        "    wd=0.0,\n",
        "    eta=0.03,         # if unstable, try 0.02; if too slow, 0.1\n",
        "    out_dir=\"outputs_groupdro\",\n",
        "    seed=1337,\n",
        "    use_amp=True\n",
        ")\n",
        "\n",
        "best_idx = df_gdro[\"target_acc\"].idxmax()\n",
        "best = df_gdro.iloc[best_idx]\n",
        "summary_gdro = {\n",
        "    \"best_epoch\": int(best[\"epoch\"]),\n",
        "    \"target_sketch_acc\": round(float(best[\"target_acc\"]), 4),\n",
        "    \"avg_source_acc\": round(float(best[\"avg_source_acc\"]), 4),\n",
        "    \"worst_source_acc\": round(float(best[\"worst_source_acc\"]), 4),\n",
        "    **{f\"{d}_acc\": round(float(best[f'acc_{d}']), 4) for d in SOURCES+[TARGET]},\n",
        "    \"q_at_best\": [round(v, 4) for v in best[\"q\"]],\n",
        "}\n",
        "summary_gdro\n"
      ]
    },
    {
      "cell_type": "markdown",
      "id": "c6uXa2AdZ6D3",
      "metadata": {
        "id": "c6uXa2AdZ6D3"
      },
      "source": [
        "# SAM"
      ]
    },
    {
      "cell_type": "code",
      "execution_count": 8,
      "id": "VkuQWzUQZ6Ll",
      "metadata": {
        "id": "VkuQWzUQZ6Ll"
      },
      "outputs": [],
      "source": [
        "import torch\n",
        "import torch.nn as nn\n",
        "from torch.optim import Optimizer\n",
        "\n",
        "class SAM(Optimizer):\n",
        "    \"\"\"Sharpness-Aware Minimization (SAM) wrapper.\n",
        "       Works with SGD/Adam/AdamW. Call first_step(...), then second_step(...).\n",
        "    \"\"\"\n",
        "    def __init__(self, params, base_optimizer, rho=0.05, adaptive=False, **kwargs):\n",
        "        assert rho > 0.0\n",
        "        defaults = dict(rho=rho, adaptive=adaptive, **kwargs)\n",
        "        super().__init__(params, defaults)\n",
        "        self.base_optimizer = base_optimizer(self.param_groups, **kwargs)\n",
        "        self.param_groups = self.base_optimizer.param_groups  # keep ref\n",
        "\n",
        "    @torch.no_grad()\n",
        "    def _grad_norm(self):\n",
        "        device = self.param_groups[0][\"params\"][0].device\n",
        "        norms = []\n",
        "        for group in self.param_groups:\n",
        "            for p in group[\"params\"]:\n",
        "                if p.grad is None:\n",
        "                    continue\n",
        "                grad = p.grad\n",
        "                if group.get(\"adaptive\", False):\n",
        "                    grad = grad * (p.abs() + 1e-12)\n",
        "                norms.append(torch.norm(grad, p=2))\n",
        "        if not norms:\n",
        "            return torch.tensor(0.0, device=device)\n",
        "        return torch.norm(torch.stack(norms), p=2)\n",
        "\n",
        "    @torch.no_grad()\n",
        "    def first_step(self, zero_grad=False):\n",
        "        rho = self.param_groups[0][\"rho\"]\n",
        "        adaptive = self.param_groups[0].get(\"adaptive\", False)\n",
        "        grad_norm = self._grad_norm()\n",
        "        scale = rho / (grad_norm + 1e-12)\n",
        "\n",
        "        for group in self.param_groups:\n",
        "            for p in group[\"params\"]:\n",
        "                if p.grad is None:\n",
        "                    continue\n",
        "                self.state[p][\"old_p\"] = p.data.clone()\n",
        "                e_w = p.grad\n",
        "                if adaptive:\n",
        "                    e_w = e_w * (p.abs() + 1e-12)\n",
        "                p.add_(e_w, alpha=scale)\n",
        "\n",
        "        if zero_grad:\n",
        "            self.zero_grad()\n",
        "\n",
        "    @torch.no_grad()\n",
        "    def second_step(self, zero_grad=False):\n",
        "        for group in self.param_groups:\n",
        "            for p in group[\"params\"]:\n",
        "                if \"old_p\" not in self.state[p]:\n",
        "                    continue\n",
        "                p.data.copy_(self.state[p][\"old_p\"])\n",
        "        self.base_optimizer.step()\n",
        "        if zero_grad:\n",
        "            self.zero_grad()\n",
        "\n",
        "    def step(self):\n",
        "        # not used; call first_step/second_step explicitly\n",
        "        raise NotImplementedError\n",
        "\n",
        "    def zero_grad(self, *args, **kwargs):\n",
        "        self.base_optimizer.zero_grad(*args, **kwargs)\n",
        "\n",
        "    def state_dict(self):\n",
        "        return {\n",
        "            \"base\": self.base_optimizer.state_dict(),\n",
        "            \"sam\": super().state_dict(),\n",
        "        }\n",
        "\n",
        "    def load_state_dict(self, state_dict):\n",
        "        self.base_optimizer.load_state_dict(state_dict[\"base\"])\n",
        "        super().load_state_dict(state_dict[\"sam\"])\n"
      ]
    },
    {
      "cell_type": "code",
      "execution_count": 9,
      "id": "mQLSftSLaYEZ",
      "metadata": {
        "id": "mQLSftSLaYEZ"
      },
      "outputs": [],
      "source": [
        "import torch, numpy as np, os\n",
        "import torch.nn as nn\n",
        "import torch.optim as optim\n",
        "from torchvision import models\n",
        "from tqdm import tqdm\n",
        "import pandas as pd\n",
        "from torch.optim.swa_utils import AveragedModel, SWALR, update_bn\n",
        "\n",
        "def build_resnet50_sam(num_classes: int, train_layers=(\"layer3\",\"layer4\",\"fc\")):\n",
        "    m = models.resnet50(weights=models.ResNet50_Weights.IMAGENET1K_V2)\n",
        "    for p in m.parameters(): p.requires_grad = False\n",
        "    if \"layer3\" in train_layers:\n",
        "        for p in m.layer3.parameters(): p.requires_grad = True\n",
        "    if \"layer4\" in train_layers:\n",
        "        for p in m.layer4.parameters(): p.requires_grad = True\n",
        "    m.fc = nn.Linear(m.fc.in_features, num_classes)\n",
        "    return m\n",
        "\n",
        "@torch.no_grad()\n",
        "def evaluate(model, loaders, device):\n",
        "    model.eval()\n",
        "    acc = {}\n",
        "    for name, ld in loaders.items():\n",
        "        c=t=0\n",
        "        for xb, yb in ld:\n",
        "            xb = xb.to(device, memory_format=torch.channels_last)\n",
        "            yb = yb.to(device)\n",
        "            pred = model(xb).argmax(1)\n",
        "            c += (pred==yb).sum().item(); t += yb.numel()\n",
        "        acc[name] = c / max(t,1)\n",
        "    return acc\n",
        "\n",
        "def set_bn_eval(m):\n",
        "    # Freeze BN running stats (affine params still train). Helps SAM stability.\n",
        "    if isinstance(m, torch.nn.modules.batchnorm._BatchNorm):\n",
        "        m.eval()\n",
        "\n",
        "def train_erm_sam(\n",
        "    train_loader, eval_loaders, num_classes,\n",
        "    epochs=20, base_lr=3e-4, wd=1e-4, rho=0.075, use_sgd=False,\n",
        "    out_dir=\"outputs_sam_asam\", seed=1337, use_amp=True,\n",
        "    swa_start_epoch=14\n",
        "):\n",
        "    np.random.seed(seed); torch.manual_seed(seed)\n",
        "    device = torch.device(\"cuda\" if torch.cuda.is_available() else \"cpu\")\n",
        "\n",
        "    # --- model ---\n",
        "    model = build_resnet50_sam(num_classes).to(device)\n",
        "    model = model.to(memory_format=torch.channels_last)\n",
        "    model.apply(set_bn_eval)  # freeze BN running stats for both passes\n",
        "\n",
        "    # --- optimizer: ASAM (adaptive=True) ---\n",
        "    if use_sgd:\n",
        "        base_opt = optim.SGD\n",
        "        opt = SAM(\n",
        "            model.parameters(), base_optimizer=base_opt,\n",
        "            rho=rho, adaptive=True, lr=base_lr, momentum=0.9,\n",
        "            weight_decay=wd, nesterov=True\n",
        "        )\n",
        "    else:\n",
        "        base_opt = optim.AdamW\n",
        "        opt = SAM(\n",
        "            model.parameters(), base_optimizer=base_opt,\n",
        "            rho=rho, adaptive=True, lr=base_lr, weight_decay=wd\n",
        "        )\n",
        "\n",
        "    # --- LR schedule: warmup + cosine ---\n",
        "    warmup_epochs = 3\n",
        "    warm = torch.optim.lr_scheduler.LinearLR(opt.base_optimizer, start_factor=0.2, total_iters=warmup_epochs)\n",
        "    cos  = torch.optim.lr_scheduler.CosineAnnealingLR(opt.base_optimizer, T_max=epochs - warmup_epochs, eta_min=1e-6)\n",
        "    sched = torch.optim.lr_scheduler.SequentialLR(opt.base_optimizer, [warm, cos], milestones=[warmup_epochs])\n",
        "\n",
        "    # --- SWA (average last few epochs) ---\n",
        "    use_swa = True\n",
        "    swa_model = AveragedModel(model) if use_swa else None\n",
        "    swa_sched = SWALR(opt.base_optimizer, swa_lr=base_lr*0.5) if use_swa else None\n",
        "\n",
        "    # --- loss, AMP, misc ---\n",
        "    ce = nn.CrossEntropyLoss(label_smoothing=0.1)\n",
        "    scaler = torch.amp.GradScaler('cuda', enabled=(use_amp and device.type=='cuda'))\n",
        "    torch.set_float32_matmul_precision('medium')\n",
        "\n",
        "    best_tgt = 0.0\n",
        "    logs = []\n",
        "    os.makedirs(out_dir, exist_ok=True)\n",
        "\n",
        "    for ep in range(1, epochs+1):\n",
        "        model.train()\n",
        "        running_loss = 0.0; seen = 0\n",
        "\n",
        "        # (optional) unfreeze a bit more capacity after warmup\n",
        "        if ep == warmup_epochs + 1:\n",
        "            if hasattr(model, \"layer2\"):\n",
        "                for p in model.layer2.parameters(): p.requires_grad = True\n",
        "\n",
        "        for xb, yb in tqdm(train_loader, desc=f\"[SAM/ASAM] Epoch {ep}/{epochs}\", leave=False):\n",
        "            xb = xb.to(device, memory_format=torch.channels_last, non_blocking=True)\n",
        "            yb = yb.to(device, non_blocking=True)\n",
        "\n",
        "            # ---- pass 1: ascent (compute epsilon) ----\n",
        "            opt.zero_grad()\n",
        "            with torch.amp.autocast('cuda', enabled=(use_amp and device.type=='cuda')):\n",
        "                logits = model(xb)\n",
        "                loss = ce(logits, yb)\n",
        "            scaler.scale(loss).backward()\n",
        "\n",
        "            # DO NOT unscale here\n",
        "            opt.first_step(zero_grad=True)\n",
        "\n",
        "            # ---- pass 2: descent at w+ε ----\n",
        "            with torch.amp.autocast('cuda', enabled=(use_amp and device.type=='cuda')):\n",
        "                logits_adv = model(xb)\n",
        "                loss_adv = ce(logits_adv, yb)\n",
        "\n",
        "            scaler.scale(loss_adv).backward()\n",
        "            scaler.unscale_(opt.base_optimizer)\n",
        "            torch.nn.utils.clip_grad_norm_(model.parameters(), 1.0)\n",
        "\n",
        "            scaler.step(opt.base_optimizer)\n",
        "            scaler.update()\n",
        "            opt.second_step(zero_grad=True)\n",
        "\n",
        "            running_loss += loss_adv.item() * yb.size(0)\n",
        "            seen += yb.size(0)\n",
        "\n",
        "        # LR scheduling / SWA update\n",
        "        if use_swa and ep >= swa_start_epoch:\n",
        "            swa_model.update_parameters(model)\n",
        "            swa_sched.step()\n",
        "        else:\n",
        "            sched.step()\n",
        "\n",
        "        # Eval current model (not SWA)\n",
        "        acc_now = evaluate(model, eval_loaders, device)\n",
        "        src_domains = [d for d in eval_loaders.keys() if d != \"sketch\"]\n",
        "        src_accs = [acc_now[d] for d in src_domains]\n",
        "        row = {\n",
        "            \"epoch\": ep,\n",
        "            \"train_loss\": running_loss / max(seen,1),\n",
        "            \"target_acc\": acc_now.get(\"sketch\", 0.0),\n",
        "            \"avg_source_acc\": float(np.mean(src_accs)) if src_accs else 0.0,\n",
        "            \"worst_source_acc\": float(min(src_accs)) if src_accs else 0.0,\n",
        "            **{f\"acc_{k}\": v for k,v in acc_now.items()}\n",
        "        }\n",
        "        logs.append(row)\n",
        "        print(f\"[SAM/ASAM Ep {ep:02d}] tgt={row['target_acc']:.3f} | src_avg={row['avg_source_acc']:.3f} | worst_src={row['worst_source_acc']:.3f}\")\n",
        "\n",
        "        if row[\"target_acc\"] > best_tgt:\n",
        "            best_tgt = row[\"target_acc\"]\n",
        "            torch.save(model.state_dict(), os.path.join(out_dir, \"best_model.pt\"))\n",
        "\n",
        "    # ---- Final SWA evaluation ----\n",
        "    if use_swa:\n",
        "        # temporarily unfreeze BN running stats to compute them for SWA weights\n",
        "        def set_bn_train(m):\n",
        "            if isinstance(m, torch.nn.modules.batchnorm._BatchNorm): m.train()\n",
        "        swa_model.apply(set_bn_train)\n",
        "        update_bn(train_loader, swa_model, device=device)\n",
        "        acc_swa = evaluate(swa_model, eval_loaders, device)\n",
        "        tgt_swa = acc_swa.get(\"sketch\", 0.0)\n",
        "        print(f\"✅ SWA final target (sketch) accuracy: {tgt_swa:.3f}\")\n",
        "        torch.save(swa_model.state_dict(), os.path.join(out_dir, \"best_model_swa.pt\"))\n",
        "\n",
        "    df = pd.DataFrame(logs)\n",
        "    df.to_csv(os.path.join(out_dir, \"training_log.csv\"), index=False)\n",
        "    print(f\"✅ SAM/ASAM best target (sketch) accuracy during training: {best_tgt:.3f}\")\n",
        "    return df\n"
      ]
    },
    {
      "cell_type": "code",
      "execution_count": 10,
      "id": "mAisNiIhafbe",
      "metadata": {
        "colab": {
          "base_uri": "https://localhost:8080/"
        },
        "id": "mAisNiIhafbe",
        "outputId": "0a93e7fc-3e35-4596-c3b1-51414b265255"
      },
      "outputs": [
        {
          "name": "stderr",
          "output_type": "stream",
          "text": []
        },
        {
          "name": "stdout",
          "output_type": "stream",
          "text": [
            "[SAM/ASAM Ep 01] tgt=0.526 | src_avg=0.960 | worst_src=0.931\n"
          ]
        },
        {
          "name": "stderr",
          "output_type": "stream",
          "text": []
        },
        {
          "name": "stdout",
          "output_type": "stream",
          "text": [
            "[SAM/ASAM Ep 02] tgt=0.654 | src_avg=0.993 | worst_src=0.990\n"
          ]
        },
        {
          "name": "stderr",
          "output_type": "stream",
          "text": [
            "/usr/local/lib/python3.12/dist-packages/torch/optim/lr_scheduler.py:209: UserWarning: The epoch parameter in `scheduler.step()` was not necessary and is being deprecated where possible. Please use `scheduler.step()` to step the scheduler. During the deprecation, if epoch is different from None, the closed form is used instead of the new chainable form, where available. Please open an issue if you are unable to replicate your use case: https://github.com/pytorch/pytorch/issues/new/choose.\n",
            "  warnings.warn(EPOCH_DEPRECATION_WARNING, UserWarning)\n"
          ]
        },
        {
          "name": "stdout",
          "output_type": "stream",
          "text": [
            "[SAM/ASAM Ep 03] tgt=0.651 | src_avg=0.989 | worst_src=0.986\n"
          ]
        },
        {
          "name": "stderr",
          "output_type": "stream",
          "text": []
        },
        {
          "name": "stdout",
          "output_type": "stream",
          "text": [
            "[SAM/ASAM Ep 04] tgt=0.682 | src_avg=0.993 | worst_src=0.986\n"
          ]
        },
        {
          "name": "stderr",
          "output_type": "stream",
          "text": []
        },
        {
          "name": "stdout",
          "output_type": "stream",
          "text": [
            "[SAM/ASAM Ep 05] tgt=0.659 | src_avg=0.997 | worst_src=0.993\n"
          ]
        },
        {
          "name": "stderr",
          "output_type": "stream",
          "text": []
        },
        {
          "name": "stdout",
          "output_type": "stream",
          "text": [
            "[SAM/ASAM Ep 06] tgt=0.668 | src_avg=0.995 | worst_src=0.992\n"
          ]
        },
        {
          "name": "stderr",
          "output_type": "stream",
          "text": []
        },
        {
          "name": "stdout",
          "output_type": "stream",
          "text": [
            "[SAM/ASAM Ep 07] tgt=0.658 | src_avg=0.998 | worst_src=0.996\n"
          ]
        },
        {
          "name": "stderr",
          "output_type": "stream",
          "text": []
        },
        {
          "name": "stdout",
          "output_type": "stream",
          "text": [
            "[SAM/ASAM Ep 08] tgt=0.639 | src_avg=0.996 | worst_src=0.994\n"
          ]
        },
        {
          "name": "stderr",
          "output_type": "stream",
          "text": []
        },
        {
          "name": "stdout",
          "output_type": "stream",
          "text": [
            "[SAM/ASAM Ep 09] tgt=0.688 | src_avg=0.999 | worst_src=0.999\n"
          ]
        },
        {
          "name": "stderr",
          "output_type": "stream",
          "text": []
        },
        {
          "name": "stdout",
          "output_type": "stream",
          "text": [
            "[SAM/ASAM Ep 10] tgt=0.660 | src_avg=1.000 | worst_src=1.000\n"
          ]
        },
        {
          "name": "stderr",
          "output_type": "stream",
          "text": []
        },
        {
          "name": "stdout",
          "output_type": "stream",
          "text": [
            "[SAM/ASAM Ep 11] tgt=0.673 | src_avg=1.000 | worst_src=0.999\n"
          ]
        },
        {
          "name": "stderr",
          "output_type": "stream",
          "text": []
        },
        {
          "name": "stdout",
          "output_type": "stream",
          "text": [
            "[SAM/ASAM Ep 12] tgt=0.738 | src_avg=1.000 | worst_src=0.999\n"
          ]
        },
        {
          "name": "stderr",
          "output_type": "stream",
          "text": []
        },
        {
          "name": "stdout",
          "output_type": "stream",
          "text": [
            "[SAM/ASAM Ep 13] tgt=0.744 | src_avg=1.000 | worst_src=1.000\n"
          ]
        },
        {
          "name": "stderr",
          "output_type": "stream",
          "text": []
        },
        {
          "name": "stdout",
          "output_type": "stream",
          "text": [
            "[SAM/ASAM Ep 14] tgt=0.746 | src_avg=1.000 | worst_src=1.000\n"
          ]
        },
        {
          "name": "stderr",
          "output_type": "stream",
          "text": []
        },
        {
          "name": "stdout",
          "output_type": "stream",
          "text": [
            "[SAM/ASAM Ep 15] tgt=0.786 | src_avg=1.000 | worst_src=1.000\n"
          ]
        },
        {
          "name": "stderr",
          "output_type": "stream",
          "text": []
        },
        {
          "name": "stdout",
          "output_type": "stream",
          "text": [
            "[SAM/ASAM Ep 16] tgt=0.777 | src_avg=1.000 | worst_src=1.000\n"
          ]
        },
        {
          "name": "stderr",
          "output_type": "stream",
          "text": []
        },
        {
          "name": "stdout",
          "output_type": "stream",
          "text": [
            "[SAM/ASAM Ep 17] tgt=0.788 | src_avg=1.000 | worst_src=1.000\n"
          ]
        },
        {
          "name": "stderr",
          "output_type": "stream",
          "text": []
        },
        {
          "name": "stdout",
          "output_type": "stream",
          "text": [
            "[SAM/ASAM Ep 18] tgt=0.776 | src_avg=1.000 | worst_src=0.999\n"
          ]
        },
        {
          "name": "stderr",
          "output_type": "stream",
          "text": []
        },
        {
          "name": "stdout",
          "output_type": "stream",
          "text": [
            "[SAM/ASAM Ep 19] tgt=0.764 | src_avg=1.000 | worst_src=1.000\n"
          ]
        },
        {
          "name": "stderr",
          "output_type": "stream",
          "text": []
        },
        {
          "name": "stdout",
          "output_type": "stream",
          "text": [
            "[SAM/ASAM Ep 20] tgt=0.741 | src_avg=1.000 | worst_src=1.000\n",
            "✅ SWA final target (sketch) accuracy: 0.793\n",
            "✅ SAM/ASAM best target (sketch) accuracy during training: 0.788\n"
          ]
        },
        {
          "data": {
            "text/plain": [
              "{'best_epoch': 17,\n",
              " 'target_sketch_acc': 0.7885,\n",
              " 'avg_source_acc': 0.9999,\n",
              " 'worst_source_acc': 0.9996,\n",
              " 'art_painting': 1.0,\n",
              " 'cartoon': 0.9996,\n",
              " 'photo': 1.0,\n",
              " 'sketch': 0.7885}"
            ]
          },
          "execution_count": 10,
          "metadata": {},
          "output_type": "execute_result"
        }
      ],
      "source": [
        "per_domain_train = make_per_domain_train_loaders(\n",
        "    data_root=DATA_ROOT,\n",
        "    sources=SOURCES,\n",
        ")\n",
        "\n",
        "df_sam = train_erm_sam(\n",
        "    train_loader=train_loader,\n",
        "    eval_loaders=eval_loaders,\n",
        "    num_classes=num_classes,\n",
        "    epochs=20,\n",
        "    base_lr=3e-4,     # AdamW LR\n",
        "    wd=1e-4,\n",
        "    rho=0.075,        # ASAM radius; 0.05–0.1 are common\n",
        "    use_sgd=False,    # AdamW + ASAM (recommended)\n",
        "    out_dir=\"outputs_sam_asam\",\n",
        "    seed=1337,\n",
        "    use_amp=True,\n",
        "    swa_start_epoch=14\n",
        ")\n",
        "best_idx = df_sam[\"target_acc\"].idxmax()\n",
        "best = df_sam.iloc[best_idx]\n",
        "{\n",
        "    \"best_epoch\": int(best[\"epoch\"]),\n",
        "    \"target_sketch_acc\": round(float(best[\"target_acc\"]), 4),\n",
        "    \"avg_source_acc\": round(float(best[\"avg_source_acc\"]), 4),\n",
        "    \"worst_source_acc\": round(float(best[\"worst_source_acc\"]), 4),\n",
        "    **{f\"{k}\": round(float(best[f'acc_{k}']),4) for k in eval_loaders.keys()}\n",
        "}\n"
      ]
    },
    {
      "cell_type": "markdown",
      "id": "xQWlbS-_RxdO",
      "metadata": {
        "id": "xQWlbS-_RxdO"
      },
      "source": [
        "# Summary"
      ]
    },
    {
      "cell_type": "code",
      "execution_count": null,
      "id": "jR7EOggbRwre",
      "metadata": {
        "id": "jR7EOggbRwre",
        "outputId": "176e2648-1a62-401f-b3d5-a7e54496b7fa"
      },
      "outputs": [
        {
          "data": {
            "text/html": [
              "<style type=\"text/css\">\n",
              "</style>\n",
              "<table id=\"T_c6d54\">\n",
              "  <thead>\n",
              "    <tr>\n",
              "      <th class=\"blank level0\" >&nbsp;</th>\n",
              "      <th id=\"T_c6d54_level0_col0\" class=\"col_heading level0 col0\" >method</th>\n",
              "      <th id=\"T_c6d54_level0_col1\" class=\"col_heading level0 col1\" >best_epoch</th>\n",
              "      <th id=\"T_c6d54_level0_col2\" class=\"col_heading level0 col2\" >target_sketch</th>\n",
              "      <th id=\"T_c6d54_level0_col3\" class=\"col_heading level0 col3\" >avg_source</th>\n",
              "      <th id=\"T_c6d54_level0_col4\" class=\"col_heading level0 col4\" >worst_source</th>\n",
              "      <th id=\"T_c6d54_level0_col5\" class=\"col_heading level0 col5\" >art</th>\n",
              "      <th id=\"T_c6d54_level0_col6\" class=\"col_heading level0 col6\" >cartoon</th>\n",
              "      <th id=\"T_c6d54_level0_col7\" class=\"col_heading level0 col7\" >photo</th>\n",
              "    </tr>\n",
              "  </thead>\n",
              "  <tbody>\n",
              "    <tr>\n",
              "      <th id=\"T_c6d54_level0_row0\" class=\"row_heading level0 row0\" >0</th>\n",
              "      <td id=\"T_c6d54_row0_col0\" class=\"data row0 col0\" >GroupDRO</td>\n",
              "      <td id=\"T_c6d54_row0_col1\" class=\"data row0 col1\" >17</td>\n",
              "      <td id=\"T_c6d54_row0_col2\" class=\"data row0 col2\" >0.802</td>\n",
              "      <td id=\"T_c6d54_row0_col3\" class=\"data row0 col3\" >0.989</td>\n",
              "      <td id=\"T_c6d54_row0_col4\" class=\"data row0 col4\" >0.975</td>\n",
              "      <td id=\"T_c6d54_row0_col5\" class=\"data row0 col5\" >0.992</td>\n",
              "      <td id=\"T_c6d54_row0_col6\" class=\"data row0 col6\" >0.975</td>\n",
              "      <td id=\"T_c6d54_row0_col7\" class=\"data row0 col7\" >0.999</td>\n",
              "    </tr>\n",
              "    <tr>\n",
              "      <th id=\"T_c6d54_level0_row1\" class=\"row_heading level0 row1\" >1</th>\n",
              "      <td id=\"T_c6d54_row1_col0\" class=\"data row1 col0\" >SAM</td>\n",
              "      <td id=\"T_c6d54_row1_col1\" class=\"data row1 col1\" >14</td>\n",
              "      <td id=\"T_c6d54_row1_col2\" class=\"data row1 col2\" >0.766</td>\n",
              "      <td id=\"T_c6d54_row1_col3\" class=\"data row1 col3\" >1.000</td>\n",
              "      <td id=\"T_c6d54_row1_col4\" class=\"data row1 col4\" >1.000</td>\n",
              "      <td id=\"T_c6d54_row1_col5\" class=\"data row1 col5\" >1.000</td>\n",
              "      <td id=\"T_c6d54_row1_col6\" class=\"data row1 col6\" >1.000</td>\n",
              "      <td id=\"T_c6d54_row1_col7\" class=\"data row1 col7\" >1.000</td>\n",
              "    </tr>\n",
              "    <tr>\n",
              "      <th id=\"T_c6d54_level0_row2\" class=\"row_heading level0 row2\" >2</th>\n",
              "      <td id=\"T_c6d54_row2_col0\" class=\"data row2 col0\" >IRM</td>\n",
              "      <td id=\"T_c6d54_row2_col1\" class=\"data row2 col1\" >13</td>\n",
              "      <td id=\"T_c6d54_row2_col2\" class=\"data row2 col2\" >0.744</td>\n",
              "      <td id=\"T_c6d54_row2_col3\" class=\"data row2 col3\" >0.978</td>\n",
              "      <td id=\"T_c6d54_row2_col4\" class=\"data row2 col4\" >0.958</td>\n",
              "      <td id=\"T_c6d54_row2_col5\" class=\"data row2 col5\" >0.979</td>\n",
              "      <td id=\"T_c6d54_row2_col6\" class=\"data row2 col6\" >0.958</td>\n",
              "      <td id=\"T_c6d54_row2_col7\" class=\"data row2 col7\" >0.998</td>\n",
              "    </tr>\n",
              "    <tr>\n",
              "      <th id=\"T_c6d54_level0_row3\" class=\"row_heading level0 row3\" >3</th>\n",
              "      <td id=\"T_c6d54_row3_col0\" class=\"data row3 col0\" >ERM</td>\n",
              "      <td id=\"T_c6d54_row3_col1\" class=\"data row3 col1\" >18</td>\n",
              "      <td id=\"T_c6d54_row3_col2\" class=\"data row3 col2\" >0.736</td>\n",
              "      <td id=\"T_c6d54_row3_col3\" class=\"data row3 col3\" >1.000</td>\n",
              "      <td id=\"T_c6d54_row3_col4\" class=\"data row3 col4\" >1.000</td>\n",
              "      <td id=\"T_c6d54_row3_col5\" class=\"data row3 col5\" >1.000</td>\n",
              "      <td id=\"T_c6d54_row3_col6\" class=\"data row3 col6\" >1.000</td>\n",
              "      <td id=\"T_c6d54_row3_col7\" class=\"data row3 col7\" >1.000</td>\n",
              "    </tr>\n",
              "  </tbody>\n",
              "</table>\n"
            ],
            "text/plain": [
              "<pandas.io.formats.style.Styler at 0x10a3ac1c0>"
            ]
          },
          "execution_count": 2,
          "metadata": {},
          "output_type": "execute_result"
        }
      ],
      "source": [
        "import pandas as pd, os, numpy as np\n",
        "\n",
        "paths = {\n",
        "    \"ERM\":       \"outputs_erm/training_log.csv\",\n",
        "    \"IRM\":       \"outputs_irm/training_log.csv\",\n",
        "    \"GroupDRO\":  \"outputs_gdro/training_log.csv\",\n",
        "    \"SAM\":       \"outputs_sam/training_log.csv\",  # adjust if you used a different path\n",
        "}\n",
        "\n",
        "rows = []\n",
        "for name, p in paths.items():\n",
        "    if not os.path.exists(p):\n",
        "        print(f\"⚠️ Missing: {name} -> {p}\")\n",
        "        continue\n",
        "    df = pd.read_csv(p)\n",
        "    i = df[\"target_acc\"].idxmax()\n",
        "    r = df.loc[i]\n",
        "    rows.append({\n",
        "        \"method\": name,\n",
        "        \"best_epoch\": int(r[\"epoch\"]),\n",
        "        \"target_sketch\": float(r[\"target_acc\"]),\n",
        "        \"avg_source\": float(r.get(\"avg_source_acc\", np.nan)),\n",
        "        \"worst_source\": float(r.get(\"worst_source_acc\", np.nan)),\n",
        "        \"art\": float(r.get(\"acc_art_painting\", r.get(\"art_painting_acc\", np.nan))),\n",
        "        \"cartoon\": float(r.get(\"acc_cartoon\", r.get(\"cartoon_acc\", np.nan))),\n",
        "        \"photo\": float(r.get(\"acc_photo\", r.get(\"photo_acc\", np.nan))),\n",
        "    })\n",
        "summary = pd.DataFrame(rows).sort_values(\"target_sketch\", ascending=False).reset_index(drop=True)\n",
        "summary.style.format({\"target_sketch\":\"{:.3f}\",\"avg_source\":\"{:.3f}\",\"worst_source\":\"{:.3f}\",\"art\":\"{:.3f}\",\"cartoon\":\"{:.3f}\",\"photo\":\"{:.3f}\"})\n"
      ]
    },
    {
      "cell_type": "code",
      "execution_count": null,
      "id": "9f05cb27",
      "metadata": {
        "id": "9f05cb27",
        "outputId": "7b25b8b0-429b-490e-ad3a-98d17543f8d8"
      },
      "outputs": [
        {
          "data": {
            "image/png": "[encoded data removed]",
            "text/plain": [
              "<Figure size 640x480 with 1 Axes>"
            ]
          },
          "metadata": {},
          "output_type": "display_data"
        },
        {
          "data": {
            "image/png": "[encoded data removed]",
            "text/plain": [
              "<Figure size 640x480 with 2 Axes>"
            ]
          },
          "metadata": {},
          "output_type": "display_data"
        }
      ],
      "source": [
        "import matplotlib.pyplot as plt\n",
        "plt.figure()\n",
        "for name, p in paths.items():\n",
        "    if os.path.exists(p):\n",
        "        df = pd.read_csv(p)\n",
        "        plt.plot(df[\"epoch\"], df[\"target_acc\"], label=name)\n",
        "plt.xlabel(\"Epoch\"); plt.ylabel(\"Target (Sketch) acc\"); plt.title(\"Target accuracy vs. epoch\"); plt.legend(); plt.show()\n",
        "\n",
        "# IRM: show penalty & lambda vs epoch\n",
        "if os.path.exists(paths.get(\"IRM\",\"\")):\n",
        "    df = pd.read_csv(paths[\"IRM\"])\n",
        "    if {\"lambda\",\"target_acc\"}.issubset(df.columns):\n",
        "        fig, ax1 = plt.subplots()\n",
        "        ax1.plot(df[\"epoch\"], df[\"target_acc\"], label=\"target_acc\", lw=2)\n",
        "        ax1.set_xlabel(\"Epoch\"); ax1.set_ylabel(\"Target acc\")\n",
        "        if \"penalty\" in df.columns:\n",
        "            ax2 = ax1.twinx()\n",
        "            ax2.plot(df[\"epoch\"], df[\"penalty\"], '--', label=\"IRM penalty\", alpha=0.7)\n",
        "            ax2.set_ylabel(\"IRM penalty\")\n",
        "        if \"lambda\" in df.columns:\n",
        "            ax2 = ax1.twinx()\n",
        "            ax2.plot(df[\"epoch\"], df[\"lambda\"], ':', label=\"λ\", alpha=0.7, color='gray')\n",
        "        fig.legend(loc=\"upper left\"); plt.title(\"IRM: target, penalty, λ\"); plt.show()\n",
        "\n",
        "# GroupDRO: plot q (domain weights) vs epoch\n",
        "import numpy as np\n",
        "if os.path.exists(paths.get(\"GroupDRO\",\"\")):\n",
        "    df = pd.read_csv(paths[\"GroupDRO\"])\n",
        "    # support multiple possible column names for q logs\n",
        "    q_cols = [c for c in df.columns if c.startswith(\"q_\")] or [c for c in df.columns if c in [\"q0\",\"q1\",\"q2\"]]\n",
        "    if q_cols:\n",
        "        q = df[q_cols].values\n",
        "        plt.figure()\n",
        "        for i,c in enumerate(q_cols):\n",
        "            plt.plot(df[\"epoch\"], q[:,i], label=c)\n",
        "        plt.xlabel(\"Epoch\"); plt.ylabel(\"q (domain weight)\"); plt.title(\"GroupDRO: q evolution\"); plt.legend(); plt.show()\n"
      ]
    },
    {
      "cell_type": "code",
      "execution_count": 15,
      "id": "b2275932",
      "metadata": {
        "colab": {
          "base_uri": "https://localhost:8080/",
          "height": 1000
        },
        "id": "b2275932",
        "outputId": "2a37f789-0660-4068-d715-7d64c3e173ec"
      },
      "outputs": [
        {
          "data": {
            "image/png": "[encoded data removed]",
            "text/plain": [
              "<Figure size 640x480 with 1 Axes>"
            ]
          },
          "metadata": {},
          "output_type": "display_data"
        },
        {
          "data": {
            "image/png": "[encoded data removed]",
            "text/plain": [
              "<Figure size 640x480 with 1 Axes>"
            ]
          },
          "metadata": {},
          "output_type": "display_data"
        },
        {
          "data": {
            "image/png": "[encoded data removed]",
            "text/plain": [
              "<Figure size 640x480 with 1 Axes>"
            ]
          },
          "metadata": {},
          "output_type": "display_data"
        },
        {
          "data": {
            "image/png": "[encoded data removed]",
            "text/plain": [
              "<Figure size 640x480 with 1 Axes>"
            ]
          },
          "metadata": {},
          "output_type": "display_data"
        }
      ],
      "source": [
        "import torch, numpy as np\n",
        "import torch.nn as nn\n",
        "from torchvision import models\n",
        "import matplotlib.pyplot as plt\n",
        "\n",
        "device = torch.device(\"cuda\" if torch.cuda.is_available() else \"cpu\")\n",
        "num_classes = 7 # Assuming 7 classes based on previous outputs\n",
        "\n",
        "@torch.no_grad()\n",
        "def _subset(loader, max_batches=3):\n",
        "    out=[];\n",
        "    for i,(x,y) in enumerate(loader):\n",
        "        out.append((x,y))\n",
        "        if i+1>=max_batches: break\n",
        "    return out\n",
        "\n",
        "def set_bn_eval(m):\n",
        "    # Freeze BN running stats (affine params still train). Helps SAM stability.\n",
        "    if isinstance(m, torch.nn.modules.batchnorm._BatchNorm):\n",
        "        m.eval()\n",
        "\n",
        "def build_resnet50_sam(num_classes: int, train_layers=(\"layer3\",\"layer4\",\"fc\")):\n",
        "    m = models.resnet50(weights=models.ResNet50_Weights.IMAGENET1K_V2)\n",
        "    for p in m.parameters(): p.requires_grad = False\n",
        "    if \"layer3\" in train_layers:\n",
        "        for p in m.layer3.parameters(): p.requires_grad = True\n",
        "    if \"layer4\" in train_layers:\n",
        "        for p in m.layer4.parameters(): p.requires_grad = True\n",
        "    m.fc = nn.Linear(m.fc.in_features, num_classes)\n",
        "    return m\n",
        "\n",
        "def build_resnet50(num_classes: int):\n",
        "    # pretrained ResNet-50, replace final layer\n",
        "    m = models.resnet50(weights=models.ResNet50_Weights.IMAGENET1K_V2)\n",
        "    m.fc = nn.Linear(m.fc.in_features, num_classes)\n",
        "    return m\n",
        "\n",
        "def flatness_probe_per_domain(model, eval_loaders, device, rhos=(0.0, 0.01, 0.02, 0.05, 0.1)):\n",
        "    ce = nn.CrossEntropyLoss()\n",
        "    model.eval()\n",
        "    params = [p for p in model.parameters() if p.requires_grad and p.dim()>0]\n",
        "    dirs = []\n",
        "    for p in params:\n",
        "        d = torch.randn_like(p)\n",
        "        d = d / (d.norm(p=2) + 1e-12)\n",
        "        dirs.append(d)\n",
        "    # snapshot\n",
        "    orig = [p.data.clone() for p in params]\n",
        "    # pre-sample tiny subsets per domain\n",
        "    subsets = {name: _subset(ld, 3) for name, ld in eval_loaders.items()}\n",
        "    losses = {name: [] for name in subsets.keys()}\n",
        "\n",
        "    for r in rhos:\n",
        "        with torch.no_grad(): # Add no_grad() context here\n",
        "            for p,d in zip(params, dirs): p.add_(d, alpha=r)\n",
        "        for name, subset in subsets.items():\n",
        "            total=n=0\n",
        "            for xb,yb in subset:\n",
        "                xb=xb.to(device); yb=yb.to(device)\n",
        "                total += ce(model(xb), yb).item()* yb.size(0); n += yb.size(0)\n",
        "            losses[name].append(total/max(n,1))\n",
        "        with torch.no_grad(): # Add no_grad() context here\n",
        "            for p,o in zip(params, orig): p.copy_(o)\n",
        "    return np.array(rhos), losses\n",
        "\n",
        "# Usage example (ERM vs SAM, per-domain curves):\n",
        "# load your best checkpoints into `erm_model` and `sam_model` built the same way as training\n",
        "erm_model = build_resnet50(num_classes).to(device)\n",
        "erm_model.load_state_dict(torch.load(\"outputs_erm/best_model.pt\", map_location=device), strict=False)\n",
        "erm_model.eval(); erm_model.to(memory_format=torch.channels_last); erm_model.apply(set_bn_eval)\n",
        "sam_model = build_resnet50_sam(num_classes).to(device)\n",
        "# Handle the 'module.' prefix from SWA state_dict and load with strict=False\n",
        "sam_state_dict = torch.load(\"outputs_sam_asam/best_model_swa.pt\", map_location=device)\n",
        "new_sam_state_dict = {}\n",
        "for k, v in sam_state_dict.items():\n",
        "    if k.startswith('module.'):\n",
        "        new_sam_state_dict[k[7:]] = v\n",
        "    else:\n",
        "        new_sam_state_dict[k] = v\n",
        "\n",
        "sam_model.load_state_dict(new_sam_state_dict, strict=False)\n",
        "sam_model.eval(); sam_model.to(memory_format=torch.channels_last); sam_model.apply(set_bn_eval)\n",
        "\n",
        "\n",
        "# eval_loaders is expected to be defined from a previous cell (e.g. by calling make_loaders)\n",
        "rhos, losses_erm = flatness_probe_per_domain(erm_model, eval_loaders, device)\n",
        "rhos, losses_sam = flatness_probe_per_domain(sam_model, eval_loaders, device)\n",
        "# Plot:\n",
        "for name in eval_loaders.keys():\n",
        "    plt.figure(); plt.plot(rhos, losses_erm[name], 'o-', label='ERM')\n",
        "    plt.plot(rhos, losses_sam[name], 'o-', label='SAM'); plt.title(f'Flatness probe: {name}')\n",
        "    plt.xlabel('Perturbation magnitude'); plt.ylabel('Avg loss (subset)'); plt.legend(); plt.show()"
      ]
    },
    {
      "cell_type": "code",
      "execution_count": 19,
      "id": "U-xypKdoiwJx",
      "metadata": {
        "colab": {
          "base_uri": "https://localhost:8080/",
          "height": 1000
        },
        "id": "U-xypKdoiwJx",
        "outputId": "e92d406a-cb78-4754-e8f1-6a4c69ebc6c4"
      },
      "outputs": [
        {
          "data": {
            "image/png": "[encoded data removed]",
            "text/plain": [
              "<Figure size 640x480 with 1 Axes>"
            ]
          },
          "metadata": {},
          "output_type": "display_data"
        },
        {
          "data": {
            "image/png": "[encoded data removed]",
            "text/plain": [
              "<Figure size 640x480 with 1 Axes>"
            ]
          },
          "metadata": {},
          "output_type": "display_data"
        },
        {
          "data": {
            "image/png": "[encoded data removed]",
            "text/plain": [
              "<Figure size 640x480 with 1 Axes>"
            ]
          },
          "metadata": {},
          "output_type": "display_data"
        },
        {
          "data": {
            "image/png": "[encoded data removed]",
            "text/plain": [
              "<Figure size 640x480 with 1 Axes>"
            ]
          },
          "metadata": {},
          "output_type": "display_data"
        }
      ],
      "source": [
        "import numpy as np, torch, torch.nn as nn\n",
        "import matplotlib.pyplot as plt\n",
        "\n",
        "def _rand_dirs_like(params, adaptive=False, eps=1e-12):\n",
        "    dirs=[]\n",
        "    if adaptive:\n",
        "        # ASAM-style relative scaling\n",
        "        norms=[]\n",
        "        tmp=[]\n",
        "        for p in params:\n",
        "            if not p.requires_grad or p.dim()==0: tmp.append(torch.zeros_like(p)); continue\n",
        "            d = torch.randn_like(p); tmp.append(d)\n",
        "            norms.append(((d*(p.abs()+eps))**2).sum())\n",
        "        denom = torch.sqrt(torch.stack(norms).sum() + eps)\n",
        "        for p,d in zip(params,tmp):\n",
        "            if d.numel()==0: dirs.append(d); continue\n",
        "            dirs.append(d * (p.abs()+eps) / denom)\n",
        "    else:\n",
        "        # plain L2-normalized\n",
        "        denom = torch.sqrt(sum((torch.randn_like(p)**2).sum() for p in params if p.requires_grad and p.dim()>0))\n",
        "        for p in params:\n",
        "            dirs.append(torch.randn_like(p) / (denom + 1e-12) if p.requires_grad and p.dim()>0 else torch.zeros_like(p))\n",
        "    return dirs\n",
        "\n",
        "@torch.no_grad()\n",
        "def flatness_probe_avg(model, eval_loaders, device, rhos=(0,0.01,0.02,0.05,0.1), K=10, adaptive=False, max_batches=3):\n",
        "    ce = nn.CrossEntropyLoss(); model.eval()\n",
        "    params = [p for p in model.parameters() if p.requires_grad and p.dim()>0]\n",
        "    orig = [p.data.clone() for p in params]\n",
        "    subsets = {n: [(x.to(device),y.to(device)) for x,y in _subset(ld,max_batches)] for n,ld in eval_loaders.items()}\n",
        "    means = {n: np.zeros(len(rhos)) for n in subsets}\n",
        "    stds  = {n: np.zeros(len(rhos)) for n in subsets}\n",
        "\n",
        "    for k in range(K):\n",
        "        dirs = _rand_dirs_like(params, adaptive=adaptive)\n",
        "        vals = {n: [] for n in subsets}\n",
        "        for ri,r in enumerate(rhos):\n",
        "            for p,d in zip(params, dirs): p.add_(d, alpha=r)\n",
        "            for n,subset in subsets.items():\n",
        "                tot=ncount=0\n",
        "                for xb,yb in subset:\n",
        "                    tot += ce(model(xb), yb).item()* yb.size(0); ncount += yb.size(0)\n",
        "                vals[n].append(tot/max(ncount,1))\n",
        "            for p,o in zip(params, orig): p.copy_(o)\n",
        "        for n in subsets:\n",
        "            means[n] += np.array(vals[n]); stds[n] += np.array(vals[n])**2\n",
        "\n",
        "    for n in subsets:\n",
        "        means[n] /= K\n",
        "        stds[n] = np.sqrt(np.maximum(stds[n]/K - means[n]**2, 0))\n",
        "\n",
        "    return np.array(rhos), means, stds\n",
        "\n",
        "# Example usage (snapshot SAM, not SWA):\n",
        "K = 10 # Define K here\n",
        "rhos, m_erm, s_erm = flatness_probe_avg(erm_model, eval_loaders, device, K=K, adaptive=False)\n",
        "rhos, m_sam, s_sam = flatness_probe_avg(sam_model, eval_loaders, device, K=K, adaptive=True)\n",
        "for name in eval_loaders.keys():\n",
        "    plt.figure()\n",
        "    plt.plot(rhos, m_erm[name], label=\"ERM\"); plt.fill_between(rhos, m_erm[name]-s_erm[name], m_erm[name]+s_erm[name], alpha=0.2)\n",
        "    plt.plot(rhos, m_sam[name], label=\"SAM\"); plt.fill_between(rhos, m_sam[name]-s_sam[name], m_sam[name]+s_sam[name], alpha=0.2)\n",
        "    plt.title(f\"Flatness (avg over {K} dirs): {name}\"); plt.xlabel(\"ρ\"); plt.ylabel(\"loss\"); plt.legend(); plt.show()"
      ]
    },
    {
      "cell_type": "code",
      "execution_count": 19,
      "id": "S8r--ALHZ4Ar",
      "metadata": {
        "colab": {
          "base_uri": "https://localhost:8080/",
          "height": 927
        },
        "id": "S8r--ALHZ4Ar",
        "outputId": "8f95b8bb-e59b-4581-c90b-b062e8dfc7af"
      },
      "outputs": [
        {
          "data": {
            "image/png": "[encoded data removed]",
            "text/plain": [
              "<Figure size 640x480 with 1 Axes>"
            ]
          },
          "metadata": {},
          "output_type": "display_data"
        },
        {
          "data": {
            "image/png": "[encoded data removed]",
            "text/plain": [
              "<Figure size 640x480 with 1 Axes>"
            ]
          },
          "metadata": {},
          "output_type": "display_data"
        }
      ],
      "source": [
        "import pandas as pd\n",
        "import matplotlib.pyplot as plt\n",
        "\n",
        "def _plot_curves(df_erm, df_sam, field, ylabel, title):\n",
        "    plt.figure()\n",
        "    plt.plot(df_erm[\"epoch\"], df_erm[field], label=\"ERM\")\n",
        "    plt.plot(df_sam[\"epoch\"], df_sam[field], label=\"SAM/ASAM\")\n",
        "    plt.xlabel(\"Epoch\"); plt.ylabel(ylabel); plt.title(title); plt.legend(); plt.show()\n",
        "\n",
        "_plot_curves(df_logs, df_sam, \"train_loss\", \"Train loss\", \"Train loss vs epoch\")\n",
        "_plot_curves(df_logs, df_sam, \"target_acc\", \"Target (Sketch) acc\", \"Target accuracy vs epoch\")\n"
      ]
    },
    {
      "cell_type": "code",
      "execution_count": 21,
      "id": "YXK9Tv-0Z9-t",
      "metadata": {
        "colab": {
          "base_uri": "https://localhost:8080/",
          "height": 472
        },
        "id": "YXK9Tv-0Z9-t",
        "outputId": "72372fb8-92af-4616-98d7-654686864635"
      },
      "outputs": [
        {
          "data": {
            "image/png": "[encoded data removed]",
            "text/plain": [
              "<Figure size 640x480 with 1 Axes>"
            ]
          },
          "metadata": {},
          "output_type": "display_data"
        }
      ],
      "source": [
        "import os, torch, numpy as np, torch.nn as nn\n",
        "from torchvision import models\n",
        "import matplotlib.pyplot as plt\n",
        "\n",
        "device = torch.device(\"cuda\" if torch.cuda.is_available() else \"cpu\")\n",
        "num_classes = 7\n",
        "\n",
        "def build_resnet50(num_classes: int):\n",
        "    m = models.resnet50(weights=models.ResNet50_Weights.IMAGENET1K_V2)\n",
        "    m.fc = nn.Linear(m.fc.in_features, num_classes)\n",
        "    return m\n",
        "\n",
        "def set_bn_eval(m):\n",
        "    if isinstance(m, torch.nn.modules.batchnorm._BatchNorm):\n",
        "        m.eval()\n",
        "\n",
        "def load_flexible_state_dict(path, device=\"cpu\"):\n",
        "    sd = torch.load(path, map_location=device)\n",
        "    # unwrap if {'state_dict': {...}}\n",
        "    if isinstance(sd, dict) and \"state_dict\" in sd and isinstance(sd[\"state_dict\"], dict):\n",
        "        sd = sd[\"state_dict\"]\n",
        "    new_sd = {}\n",
        "    for k, v in sd.items():\n",
        "        if k == \"n_averaged\":      # SWA buffer\n",
        "            continue\n",
        "        k2 = k.replace(\"module.\", \"\")  # DP/SWA prefix\n",
        "        new_sd[k2] = v\n",
        "    return new_sd\n",
        "\n",
        "@torch.no_grad()\n",
        "def _subset(loader, max_batches=4):\n",
        "    out=[]\n",
        "    for i,(x,y) in enumerate(loader):\n",
        "        out.append((x.to(device), y.to(device)))\n",
        "        if i+1>=max_batches: break\n",
        "    return out\n",
        "\n",
        "@torch.no_grad()\n",
        "def loss_on_subset(model, subset):\n",
        "    ce = nn.CrossEntropyLoss()\n",
        "    tot=n=0\n",
        "    for xb,yb in subset:\n",
        "        tot += ce(model(xb), yb).item() * yb.size(0); n += yb.size(0)\n",
        "    return tot/max(n,1)\n",
        "\n",
        "def interpolate_eval_by_state_dict(ckpt_a, ckpt_b, eval_loaders, steps=21, max_batches=4):\n",
        "    # 1) load both cleaned state dicts\n",
        "    sA = load_flexible_state_dict(ckpt_a, device)\n",
        "    sB = load_flexible_state_dict(ckpt_b, device)\n",
        "\n",
        "    # 2) use SAME model template for interpolation/ eval\n",
        "    M = build_resnet50(num_classes).to(device).to(memory_format=torch.channels_last)\n",
        "    M.eval(); M.apply(set_bn_eval)\n",
        "\n",
        "    # 3) find common keys with identical shapes\n",
        "    keys = [k for k in sA.keys() if (k in sB and sA[k].shape == sB[k].shape)]\n",
        "\n",
        "    # tiny subsets for speed\n",
        "    tgt_sub = _subset(eval_loaders[\"sketch\"], max_batches)\n",
        "    src_names = [k for k in eval_loaders if k!=\"sketch\"]\n",
        "    src_sub = []\n",
        "    for k in src_names: src_sub += _subset(eval_loaders[k], 1)\n",
        "\n",
        "    alphas = np.linspace(0,1,steps)\n",
        "    loss_tgt, loss_src = [], []\n",
        "\n",
        "    base_sd = M.state_dict()\n",
        "    for a in alphas:\n",
        "        sd_interp = {}\n",
        "        # carry over everything from A by default\n",
        "        sd_interp.update(base_sd)\n",
        "        # blend only the overlapping tensors\n",
        "        for k in keys:\n",
        "            sd_interp[k] = (1-a) * sA[k] + a * sB[k]\n",
        "        M.load_state_dict(sd_interp, strict=False)\n",
        "        # eval\n",
        "        loss_tgt.append(loss_on_subset(M, tgt_sub))\n",
        "        loss_src.append(loss_on_subset(M, src_sub))\n",
        "\n",
        "    return alphas, np.array(loss_tgt), np.array(loss_src)\n",
        "\n",
        "# ---- paths (use your snapshot SAM, NOT SWA, unless you want SWA) ----\n",
        "ckpt_erm = os.path.join(\"outputs_erm\", \"best_model.pt\")\n",
        "ckpt_sam = os.path.join(\"outputs_sam_asam\", \"best_model.pt\")  # <- your 0.766 snapshot\n",
        "\n",
        "alphas, L_tgt, L_src = interpolate_eval_by_state_dict(ckpt_erm, ckpt_sam, eval_loaders, steps=21, max_batches=4)\n",
        "\n",
        "plt.figure(); plt.plot(alphas, L_tgt, label=\"Target (Sketch) loss\")\n",
        "plt.plot(alphas, L_src, label=\"Avg Source loss\")\n",
        "plt.xlabel(\"Interpolation α (0=ERM, 1=SAM)\"); plt.ylabel(\"Loss (subset)\")\n",
        "plt.title(\"Loss barrier along ERM↔SAM (state-dict interpolation)\")\n",
        "plt.legend(); plt.show()\n"
      ]
    },
    {
      "cell_type": "code",
      "execution_count": 1,
      "id": "Q6ZnfToKcnA0",
      "metadata": {
        "id": "Q6ZnfToKcnA0"
      },
      "outputs": [],
      "source": [
        "import os, torch, numpy as np\n",
        "import torch.nn as nn\n",
        "from torchvision import models\n",
        "from tqdm import tqdm\n",
        "\n",
        "device = torch.device(\"cuda\" if torch.cuda.is_available() else \"cpu\")\n",
        "NUM_CLASSES = 7  # PACS\n",
        "\n",
        "def build_resnet50_feature(num_classes=NUM_CLASSES):\n",
        "    \"\"\"ResNet-50 with a hookable penultimate feature (2048-D after avgpool).\"\"\"\n",
        "    m = models.resnet50(weights=models.ResNet50_Weights.IMAGENET1K_V2)\n",
        "    m.fc = nn.Linear(m.fc.in_features, num_classes)\n",
        "    return m\n",
        "\n",
        "def load_flexible_state_dict(path, device=\"cpu\"):\n",
        "    sd = torch.load(path, map_location=device)\n",
        "    if isinstance(sd, dict) and \"state_dict\" in sd and isinstance(sd[\"state_dict\"], dict):\n",
        "        sd = sd[\"state_dict\"]\n",
        "    new = {}\n",
        "    for k,v in sd.items():\n",
        "        if k == \"n_averaged\":   # SWA buffer\n",
        "            continue\n",
        "        new[k.replace(\"module.\", \"\")] = v\n",
        "    return new\n",
        "\n",
        "@torch.no_grad()\n",
        "def extract_features(model, loader, max_per_class=150):\n",
        "    \"\"\"\n",
        "    Return:\n",
        "      feats: (N, 2048) float32\n",
        "      labels: (N,) int\n",
        "      domains: (N,) str\n",
        "    Uses per-class cap to keep memory sane.\n",
        "    \"\"\"\n",
        "    model.eval().to(device)\n",
        "    # Grab the 2048-D tensor AFTER avgpool, BEFORE fc\n",
        "    feats_collector = []\n",
        "    def _hook(_, __, out):\n",
        "        # out shape: (B, 2048, 1, 1) -> squeeze\n",
        "        feats_collector.append(out.flatten(1).detach().cpu())\n",
        "    handle = model.avgpool.register_forward_hook(_hook)\n",
        "\n",
        "    per_class_counts = {}\n",
        "    X, Y, D = [], [], []\n",
        "    for domain_name, ld in loader.items():\n",
        "        for xb, yb in tqdm(ld, desc=f\"Feats: {domain_name}\", leave=False):\n",
        "            xb = xb.to(device); yb = yb.to(device)\n",
        "            feats_collector.clear()\n",
        "            _ = model(xb)  # triggers hook\n",
        "            F = torch.cat(feats_collector, dim=0)  # (B, 2048)\n",
        "            for f, y in zip(F, yb):\n",
        "                y = int(y.item())\n",
        "                key = (domain_name, y)\n",
        "                per_class_counts.setdefault(key, 0)\n",
        "                if per_class_counts[key] >= max_per_class:\n",
        "                    continue\n",
        "                per_class_counts[key] += 1\n",
        "                X.append(f.numpy()); Y.append(y); D.append(domain_name)\n",
        "    handle.remove()\n",
        "    X = np.stack(X) if len(X) else np.zeros((0,2048), np.float32)\n",
        "    Y = np.array(Y, dtype=np.int64)\n",
        "    D = np.array(D, dtype=object)\n",
        "    return X, Y, D\n"
      ]
    },
    {
      "cell_type": "code",
      "execution_count": 5,
      "id": "85a2e3a8",
      "metadata": {},
      "outputs": [
        {
          "ename": "NameError",
          "evalue": "name 'make_loaders' is not defined",
          "output_type": "error",
          "traceback": [
            "\u001b[0;31m---------------------------------------------------------------------------\u001b[0m",
            "\u001b[0;31mNameError\u001b[0m                                 Traceback (most recent call last)",
            "Cell \u001b[0;32mIn[5], line 23\u001b[0m\n\u001b[1;32m     20\u001b[0m     models_dict[name] \u001b[38;5;241m=\u001b[39m m\n\u001b[1;32m     22\u001b[0m \u001b[38;5;28;01mif\u001b[39;00m \u001b[38;5;124m\"\u001b[39m\u001b[38;5;124meval_loaders\u001b[39m\u001b[38;5;124m\"\u001b[39m \u001b[38;5;129;01mnot\u001b[39;00m \u001b[38;5;129;01min\u001b[39;00m \u001b[38;5;28mglobals\u001b[39m():\n\u001b[0;32m---> 23\u001b[0m     _, eval_loaders, _, _ \u001b[38;5;241m=\u001b[39m \u001b[43mmake_loaders\u001b[49m(\n\u001b[1;32m     24\u001b[0m         DATA_ROOT, IMG_SIZE, BATCH_SIZE, NUM_WORKERS, SOURCES, TARGET\n\u001b[1;32m     25\u001b[0m     )\n\u001b[1;32m     27\u001b[0m \u001b[38;5;66;03m# To keep it fair/quick, optionally restrict eval domains to a subset:\u001b[39;00m\n\u001b[1;32m     28\u001b[0m \u001b[38;5;66;03m# eval_subset = {k:v for k,v in eval_loaders.items()}  # all domains\u001b[39;00m\n\u001b[1;32m     29\u001b[0m eval_subset \u001b[38;5;241m=\u001b[39m eval_loaders  \u001b[38;5;66;03m# use all domains\u001b[39;00m\n",
            "\u001b[0;31mNameError\u001b[0m: name 'make_loaders' is not defined"
          ]
        }
      ],
      "source": [
        "# Point these to your best checkpoints\n",
        "CKPT_ERM      = \"outputs_erm/best_model.pt\"\n",
        "CKPT_IRM      = \"outputs_irm/best_model.pt\"\n",
        "CKPT_GDRO     = \"outputs_gdro/best_model.pt\"\n",
        "CKPT_SAM      = \"outputs_sam/best_model_swa.pt\"   # use snapshot (or SWA if you prefer)\n",
        "\n",
        "paths = {\n",
        "    \"ERM\": CKPT_ERM,\n",
        "    \"IRM\": CKPT_IRM,\n",
        "    \"GroupDRO\": CKPT_GDRO,\n",
        "    \"SAM\": CKPT_SAM,\n",
        "}\n",
        "\n",
        "# Build one extractor per method and load weights\n",
        "models_dict = {}\n",
        "for name, pth in paths.items():\n",
        "    m = build_resnet50_feature(NUM_CLASSES)\n",
        "    sd = load_flexible_state_dict(pth, device)\n",
        "    m.load_state_dict(sd, strict=False)\n",
        "    models_dict[name] = m\n",
        "\n",
        "if \"eval_loaders\" not in globals():\n",
        "    _, eval_loaders, _, _ = make_loaders(\n",
        "        DATA_ROOT, IMG_SIZE, BATCH_SIZE, NUM_WORKERS, SOURCES, TARGET\n",
        "    )\n",
        "\n",
        "# To keep it fair/quick, optionally restrict eval domains to a subset:\n",
        "# eval_subset = {k:v for k,v in eval_loaders.items()}  # all domains\n",
        "eval_subset = eval_loaders  # use all domains\n",
        "\n",
        "# Extract features per model (cap per class per domain to limit memory)\n",
        "ALL_FEATS = {}\n",
        "for name, m in models_dict.items():\n",
        "    X, Y, D = extract_features(m, eval_subset, max_per_class=150)\n",
        "    ALL_FEATS[name] = (X, Y, D)\n",
        "    print(name, X.shape, \"classes range:\", (Y.min() if len(Y) else None, Y.max() if len(Y) else None))\n"
      ]
    },
    {
      "cell_type": "code",
      "source": [],
      "metadata": {
        "id": "Q6ZnfToKcnA0"
      },
      "id": "Q6ZnfToKcnA0",
      "execution_count": null,
      "outputs": []
    }
  ],
  "metadata": {
    "accelerator": "GPU",
    "colab": {
      "gpuType": "T4",
      "provenance": []
    },
    "kernelspec": {
      "display_name": "Python 3",
      "name": "python3"
    },
    "language_info": {
      "codemirror_mode": {
        "name": "ipython",
        "version": 3
      },
      "file_extension": ".py",
      "mimetype": "text/x-python",
      "name": "python",
      "nbconvert_exporter": "python",
      "pygments_lexer": "ipython3",
      "version": "3.9.6"
    },
    "widgets": {
      "application/vnd.jupyter.widget-state+json": {
        "6f088eefe711444c8437f43850e6d756": {
          "model_module": "@jupyter-widgets/controls",
          "model_module_version": "1.5.0",
          "state": {
            "_dom_classes": [],
            "_model_module": "@jupyter-widgets/controls",
            "_model_module_version": "1.5.0",
            "_model_name": "HBoxModel",
            "_view_count": null,
            "_view_module": "@jupyter-widgets/controls",
            "_view_module_version": "1.5.0",
            "_view_name": "HBoxView",
            "box_style": "",
            "children": [
              "IPY_MODEL_4dcd740b85f34bb6bae436732c2e88c8",
              "IPY_MODEL_5286bb766cf0463c9a91986809c1a527",
              "IPY_MODEL_a1e30d88b37349ebb6053d0300c94de3"
            ],
            "layout": "IPY_MODEL_11c36dc93a6a400182688c0284e56ddf"
          }
        },
        "4dcd740b85f34bb6bae436732c2e88c8": {
          "model_module": "@jupyter-widgets/controls",
          "model_name": "HTMLModel",
          "state": {
            "_dom_classes": [],
            "_model_module": "@jupyter-widgets/controls",
            "_model_module_version": "1.5.0",
            "_model_name": "HTMLModel",
            "_view_count": null,
            "_view_module": "@jupyter-widgets/controls",
            "_view_module_version": "1.5.0",
            "_view_name": "HTMLView",
            "description": "",
            "description_tooltip": null,
            "layout": "IPY_MODEL_79313afb8d144430af66fecf4e0f5077",
            "placeholder": "​",
            "style": "IPY_MODEL_75ae480b64f24b27adfdb047385e67a6",
            "value": "README.md: "
          }
        },
        "5286bb766cf0463c9a91986809c1a527": {
          "model_module": "@jupyter-widgets/controls",
          "model_name": "FloatProgressModel",
          "model_module_version": "1.5.0",
          "state": {
            "_dom_classes": [],
            "_model_module": "@jupyter-widgets/controls",
            "_model_module_version": "1.5.0",
            "_model_name": "FloatProgressModel",
            "_view_count": null,
            "_view_module": "@jupyter-widgets/controls",
            "_view_module_version": "1.5.0",
            "_view_name": "ProgressView",
            "bar_style": "success",
            "description": "",
            "description_tooltip": null,
            "layout": "IPY_MODEL_4af770a4d1954408b15811ac4dfdbfa1",
            "max": 1,
            "min": 0,
            "orientation": "horizontal",
            "style": "IPY_MODEL_78db04bd25da4a3cb2daa293e8e75e1f",
            "value": 1
          }
        },
        "a1e30d88b37349ebb6053d0300c94de3": {
          "model_module": "@jupyter-widgets/controls",
          "model_name": "HTMLModel",
          "model_module_version": "1.5.0",
          "state": {
            "_dom_classes": [],
            "_model_module": "@jupyter-widgets/controls",
            "_model_module_version": "1.5.0",
            "_model_name": "HTMLModel",
            "_view_count": null,
            "_view_module": "@jupyter-widgets/controls",
            "_view_module_version": "1.5.0",
            "_view_name": "HTMLView",
            "description": "",
            "description_tooltip": null,
            "layout": "IPY_MODEL_c11862fae16c479fa738cc25a380f4ce",
            "placeholder": "​",
            "style": "IPY_MODEL_e408250c06fd464da16ccaaf3c5017a6",
            "value": " 3.89k/? [00:00&lt;00:00, 129kB/s]"
          }
        },
        "11c36dc93a6a400182688c0284e56ddf": {
          "model_module": "@jupyter-widgets/base",
          "model_module_version": "1.2.0",
          "model_name": "LayoutModel",
          "state": {
            "_model_module": "@jupyter-widgets/base",
            "_model_module_version": "1.2.0",
            "_model_name": "LayoutModel",
            "_view_count": null,
            "_view_module": "@jupyter-widgets/base",
            "_view_module_version": "1.2.0",
            "_view_name": "LayoutView",
            "align_content": null,
            "align_items": null,
            "align_self": null,
            "border": null,
            "bottom": null,
            "display": null,
            "flex": null,
            "flex_flow": null,
            "grid_area": null,
            "grid_auto_columns": null,
            "grid_auto_flow": null,
            "grid_auto_rows": null,
            "grid_column": null,
            "grid_gap": null,
            "grid_row": null,
            "grid_template_areas": null,
            "grid_template_columns": null,
            "grid_template_rows": null,
            "height": null,
            "justify_content": null,
            "justify_items": null,
            "left": null,
            "margin": null,
            "max_height": null,
            "max_width": null,
            "min_height": null,
            "min_width": null,
            "object_fit": null,
            "object_position": null,
            "order": null,
            "overflow": null,
            "overflow_x": null,
            "overflow_y": null,
            "padding": null,
            "right": null,
            "top": null,
            "visibility": null,
            "width": null
          }
        },
        "79313afb8d144430af66fecf4e0f5077": {
          "model_module": "@jupyter-widgets/base",
          "model_module_version": "1.2.0",
          "model_name": "LayoutModel",
          "state": {
            "_model_module": "@jupyter-widgets/base",
            "_model_module_version": "1.2.0",
            "_model_name": "LayoutModel",
            "_view_count": null,
            "_view_module": "@jupyter-widgets/base",
            "_view_module_version": "1.2.0",
            "_view_name": "LayoutView",
            "align_content": null,
            "align_items": null,
            "align_self": null,
            "border": null,
            "bottom": null,
            "display": null,
            "flex": null,
            "flex_flow": null,
            "grid_area": null,
            "grid_auto_columns": null,
            "grid_auto_flow": null,
            "grid_auto_rows": null,
            "grid_column": null,
            "grid_gap": null,
            "grid_row": null,
            "grid_template_areas": null,
            "grid_template_columns": null,
            "grid_template_rows": null,
            "height": null,
            "justify_content": null,
            "justify_items": null,
            "left": null,
            "margin": null,
            "max_height": null,
            "max_width": null,
            "min_height": null,
            "min_width": null,
            "object_fit": null,
            "object_position": null,
            "order": null,
            "overflow": null,
            "overflow_x": null,
            "overflow_y": null,
            "padding": null,
            "right": null,
            "top": null,
            "visibility": null,
            "width": null
          }
        },
        "75ae480b64f24b27adfdb047385e67a6": {
          "model_module": "@jupyter-widgets/controls",
          "model_name": "DescriptionStyleModel",
          "model_module_version": "1.5.0",
          "state": {
            "_model_module": "@jupyter-widgets/controls",
            "_model_module_version": "1.5.0",
            "_model_name": "DescriptionStyleModel",
            "_view_count": null,
            "_view_module": "@jupyter-widgets/base",
            "_view_module_version": "1.2.0",
            "_view_name": "StyleView",
            "description_width": ""
          }
        },
        "4af770a4d1954408b15811ac4dfdbfa1": {
          "model_module": "@jupyter-widgets/base",
          "model_module_version": "1.2.0",
          "model_name": "LayoutModel",
          "state": {
            "_model_module": "@jupyter-widgets/base",
            "_model_module_version": "1.2.0",
            "_model_name": "LayoutModel",
            "_view_count": null,
            "_view_module": "@jupyter-widgets/base",
            "_view_module_version": "1.2.0",
            "_view_name": "LayoutView",
            "align_content": null,
            "align_items": null,
            "align_self": null,
            "border": null,
            "bottom": null,
            "display": null,
            "flex": null,
            "flex_flow": null,
            "grid_area": null,
            "grid_auto_columns": null,
            "grid_auto_flow": null,
            "grid_auto_rows": null,
            "grid_column": null,
            "grid_gap": null,
            "grid_row": null,
            "grid_template_areas": null,
            "grid_template_columns": null,
            "grid_template_rows": null,
            "height": null,
            "justify_content": null,
            "justify_items": null,
            "left": null,
            "margin": null,
            "max_height": null,
            "max_width": null,
            "min_height": null,
            "min_width": null,
            "object_fit": null,
            "object_position": null,
            "order": null,
            "overflow": null,
            "overflow_x": null,
            "overflow_y": null,
            "padding": null,
            "right": null,
            "top": null,
            "visibility": null,
            "width": null
          }
        },
        "78db04bd25da4a3cb2daa293e8e75e1f": {
          "model_module": "@jupyter-widgets/controls",
          "model_name": "ProgressStyleModel",
          "model_module_version": "1.5.0",
          "state": {
            "_model_module": "@jupyter-widgets/controls",
            "_model_module_version": "1.5.0",
            "_model_name": "ProgressStyleModel",
            "_view_count": null,
            "_view_module": "@jupyter-widgets/base",
            "_view_module_version": "1.2.0",
            "_view_name": "StyleView",
            "bar_color": null,
            "description_width": ""
          }
        },
        "c11862fae16c479fa738cc25a380f4ce": {
          "model_module": "@jupyter-widgets/base",
          "model_module_version": "1.2.0",
          "model_name": "LayoutModel",
          "state": {
            "_model_module": "@jupyter-widgets/base",
            "_model_module_version": "1.2.0",
            "_model_name": "LayoutModel",
            "_view_count": null,
            "_view_module": "@jupyter-widgets/base",
            "_view_module_version": "1.2.0",
            "_view_name": "LayoutView",
            "align_content": null,
            "align_items": null,
            "align_self": null,
            "border": null,
            "bottom": null,
            "display": null,
            "flex": null,
            "flex_flow": null,
            "grid_area": null,
            "grid_auto_columns": null,
            "grid_auto_flow": null,
            "grid_auto_rows": null,
            "grid_column": null,
            "grid_gap": null,
            "grid_row": null,
            "grid_template_areas": null,
            "grid_template_columns": null,
            "grid_template_rows": null,
            "height": null,
            "justify_content": null,
            "justify_items": null,
            "left": null,
            "margin": null,
            "max_height": null,
            "max_width": null,
            "min_height": null,
            "min_width": null,
            "object_fit": null,
            "object_position": null,
            "order": null,
            "overflow": null,
            "overflow_x": null,
            "overflow_y": null,
            "padding": null,
            "right": null,
            "top": null,
            "visibility": null,
            "width": null
          }
        },
        "e408250c06fd464da16ccaaf3c5017a6": {
          "model_module": "@jupyter-widgets/controls",
          "model_module_version": "1.5.0",
          "model_name": "DescriptionStyleModel",
          "state": {
            "_model_module": "@jupyter-widgets/controls",
            "_model_module_version": "1.5.0",
            "_model_name": "DescriptionStyleModel",
            "_view_count": null,
            "_view_module": "@jupyter-widgets/base",
            "_view_module_version": "1.2.0",
            "_view_name": "StyleView",
            "description_width": ""
          }
        },
        "a0dfc413ea0e4d75a5a90f234f7123ca": {
          "model_module": "@jupyter-widgets/controls",
          "model_name": "HBoxModel",
          "model_module_version": "1.5.0",
          "state": {
            "_dom_classes": [],
            "_model_module": "@jupyter-widgets/controls",
            "_model_module_version": "1.5.0",
            "_model_name": "HBoxModel",
            "_view_count": null,
            "_view_module": "@jupyter-widgets/controls",
            "_view_module_version": "1.5.0",
            "_view_name": "HBoxView",
            "box_style": "",
            "children": [
              "IPY_MODEL_e0f1e6a25674481da55806197acdc4bb",
              "IPY_MODEL_8607ff7b35024330b496c40e6393d31c",
              "IPY_MODEL_0303279049dc499b9c4da81347b2a303"
            ],
            "layout": "IPY_MODEL_311823240bfb45c7bd52b694394de01c"
          }
        },
        "e0f1e6a25674481da55806197acdc4bb": {
          "model_module": "@jupyter-widgets/controls",
          "model_name": "HTMLModel",
          "model_module_version": "1.5.0",
          "state": {
            "_dom_classes": [],
            "_model_module": "@jupyter-widgets/controls",
            "_model_module_version": "1.5.0",
            "_model_name": "HTMLModel",
            "_view_count": null,
            "_view_module": "@jupyter-widgets/controls",
            "_view_module_version": "1.5.0",
            "_view_name": "HTMLView",
            "description": "",
            "description_tooltip": null,
            "layout": "IPY_MODEL_ae444c02b3224c318db8ad13f13b1bbf",
            "placeholder": "​",
            "style": "IPY_MODEL_39eaef1233c646ef9fb7b10c4e0ef41f",
            "value": "data/train-00000-of-00001.parquet: 100%"
          }
        },
        "8607ff7b35024330b496c40e6393d31c": {
          "model_module": "@jupyter-widgets/controls",
          "model_name": "FloatProgressModel",
          "model_module_version": "1.5.0",
          "state": {
            "_dom_classes": [],
            "_model_module": "@jupyter-widgets/controls",
            "_model_module_version": "1.5.0",
            "_model_name": "FloatProgressModel",
            "_view_count": null,
            "_view_module": "@jupyter-widgets/controls",
            "_view_module_version": "1.5.0",
            "_view_name": "ProgressView",
            "bar_style": "success",
            "description": "",
            "description_tooltip": null,
            "layout": "IPY_MODEL_ccdcdfd6eea54dd3b5209bec4c5673c2",
            "max": 191395900,
            "min": 0,
            "orientation": "horizontal",
            "style": "IPY_MODEL_c17d2134e1834e4c9902f17730548d26",
            "value": 191395900
          }
        },
        "0303279049dc499b9c4da81347b2a303": {
          "model_module": "@jupyter-widgets/controls",
          "model_name": "HTMLModel",
          "model_module_version": "1.5.0",
          "state": {
            "_dom_classes": [],
            "_model_module": "@jupyter-widgets/controls",
            "_model_module_version": "1.5.0",
            "_model_name": "HTMLModel",
            "_view_count": null,
            "_view_module": "@jupyter-widgets/controls",
            "_view_module_version": "1.5.0",
            "_view_name": "HTMLView",
            "description": "",
            "description_tooltip": null,
            "layout": "IPY_MODEL_34c00cec4f8a4b9d8463f1944ed32cb3",
            "placeholder": "​",
            "style": "IPY_MODEL_f8239d57ed21495188312569ac81901a",
            "value": " 191M/191M [00:02&lt;00:00, 92.8MB/s]"
          }
        },
        "311823240bfb45c7bd52b694394de01c": {
          "model_module": "@jupyter-widgets/base",
          "model_module_version": "1.2.0",
          "model_name": "LayoutModel",
          "state": {
            "_model_module": "@jupyter-widgets/base",
            "_model_module_version": "1.2.0",
            "_model_name": "LayoutModel",
            "_view_count": null,
            "_view_module": "@jupyter-widgets/base",
            "_view_module_version": "1.2.0",
            "_view_name": "LayoutView",
            "align_content": null,
            "align_items": null,
            "align_self": null,
            "border": null,
            "bottom": null,
            "display": null,
            "flex": null,
            "flex_flow": null,
            "grid_area": null,
            "grid_auto_columns": null,
            "grid_auto_flow": null,
            "grid_auto_rows": null,
            "grid_column": null,
            "grid_gap": null,
            "grid_row": null,
            "grid_template_areas": null,
            "grid_template_columns": null,
            "grid_template_rows": null,
            "height": null,
            "justify_content": null,
            "justify_items": null,
            "left": null,
            "margin": null,
            "max_height": null,
            "max_width": null,
            "min_height": null,
            "min_width": null,
            "object_fit": null,
            "object_position": null,
            "order": null,
            "overflow": null,
            "overflow_x": null,
            "overflow_y": null,
            "padding": null,
            "right": null,
            "top": null,
            "visibility": null,
            "width": null
          }
        },
        "ae444c02b3224c318db8ad13f13b1bbf": {
          "model_module": "@jupyter-widgets/base",
          "model_module_version": "1.2.0",
          "model_name": "LayoutModel",
          "state": {
            "_model_module": "@jupyter-widgets/base",
            "_model_module_version": "1.2.0",
            "_model_name": "LayoutModel",
            "_view_count": null,
            "_view_module": "@jupyter-widgets/base",
            "_view_module_version": "1.2.0",
            "_view_name": "LayoutView",
            "align_content": null,
            "align_items": null,
            "align_self": null,
            "border": null,
            "bottom": null,
            "display": null,
            "flex": null,
            "flex_flow": null,
            "grid_area": null,
            "grid_auto_columns": null,
            "grid_auto_flow": null,
            "grid_auto_rows": null,
            "grid_column": null,
            "grid_gap": null,
            "grid_row": null,
            "grid_template_areas": null,
            "grid_template_columns": null,
            "grid_template_rows": null,
            "height": null,
            "justify_content": null,
            "justify_items": null,
            "left": null,
            "margin": null,
            "max_height": null,
            "max_width": null,
            "min_height": null,
            "min_width": null,
            "object_fit": null,
            "object_position": null,
            "order": null,
            "overflow": null,
            "overflow_x": null,
            "overflow_y": null,
            "padding": null,
            "right": null,
            "top": null,
            "visibility": null,
            "width": "20px"
          }
        },
        "39eaef1233c646ef9fb7b10c4e0ef41f": {
          "model_module": "@jupyter-widgets/controls",
          "model_module_version": "1.5.0",
          "model_name": "DescriptionStyleModel",
          "state": {
            "_model_module": "@jupyter-widgets/controls",
            "_model_module_version": "1.5.0",
            "_model_name": "DescriptionStyleModel",
            "_view_count": null,
            "_view_module": "@jupyter-widgets/base",
            "_view_module_version": "1.2.0",
            "_view_name": "StyleView",
            "description_width": ""
          }
        },
        "ccdcdfd6eea54dd3b5209bec4c5673c2": {
          "model_module": "@jupyter-widgets/base",
          "model_name": "LayoutModel",
          "model_module_version": "1.2.0",
          "state": {
            "_dom_classes": [],
            "_model_module": "@jupyter-widgets/controls",
            "_model_module_version": "1.5.0",
            "_model_name": "HTMLModel",
            "_view_count": null,
            "_view_module": "@jupyter-widgets/controls",
            "_view_module_version": "1.5.0",
            "_view_name": "HTMLView",
            "description": "",
            "description_tooltip": null,
            "layout": "IPY_MODEL_79313afb8d144430af66fecf4e0f5077",
            "placeholder": "​",
            "style": "IPY_MODEL_75ae480b64f24b27adfdb047385e67a6",
            "value": "README.md: "
          }
        },
        "4e5c7ee94a584d649745d3f5a9dcccf7": {
          "model_module": "@jupyter-widgets/controls",
          "model_module_version": "1.5.0",
          "model_name": "HBoxModel",
          "state": {
            "_dom_classes": [],
            "_model_module": "@jupyter-widgets/controls",
            "_model_module_version": "1.5.0",
            "_model_name": "HBoxModel",
            "_view_count": null,
            "_view_module": "@jupyter-widgets/controls",
            "_view_module_version": "1.5.0",
            "_view_name": "HBoxView",
            "box_style": "",
            "children": [
              "IPY_MODEL_a0658758dea14655b58180a1fa185b5c",
              "IPY_MODEL_b867ba8fc4dc421b94e1bfcc00be529d",
              "IPY_MODEL_a4cb064adf8f45e186846aa35682f43f"
            ],
            "layout": "IPY_MODEL_ab24f328ef82466d93cd0c7eaf1f947c"
          }
        },
        "5286bb766cf0463c9a91986809c1a527": {
          "model_module": "@jupyter-widgets/controls",
          "model_module_version": "1.5.0",
          "model_name": "FloatProgressModel",
          "state": {
            "_dom_classes": [],
            "_model_module": "@jupyter-widgets/controls",
            "_model_module_version": "1.5.0",
            "_model_name": "FloatProgressModel",
            "_view_count": null,
            "_view_module": "@jupyter-widgets/controls",
            "_view_module_version": "1.5.0",
            "_view_name": "ProgressView",
            "bar_style": "success",
            "description": "",
            "description_tooltip": null,
            "layout": "IPY_MODEL_4af770a4d1954408b15811ac4dfdbfa1",
            "max": 1,
            "min": 0,
            "orientation": "horizontal",
            "style": "IPY_MODEL_78db04bd25da4a3cb2daa293e8e75e1f",
            "value": 1
          }
        },
        "5f17d35d660640b79f6d6b051c654cca": {
          "model_module": "@jupyter-widgets/controls",
          "model_module_version": "1.5.0",
          "model_name": "ProgressStyleModel",
          "state": {
            "_model_module": "@jupyter-widgets/controls",
            "_model_module_version": "1.5.0",
            "_model_name": "ProgressStyleModel",
            "_view_count": null,
            "_view_module": "@jupyter-widgets/base",
            "_view_module_version": "1.2.0",
            "_view_name": "LayoutView",
            "align_content": null,
            "align_items": null,
            "align_self": null,
            "border": null,
            "bottom": null,
            "display": null,
            "flex": null,
            "flex_flow": null,
            "grid_area": null,
            "grid_auto_columns": null,
            "grid_auto_flow": null,
            "grid_auto_rows": null,
            "grid_column": null,
            "grid_gap": null,
            "grid_row": null,
            "grid_template_areas": null,
            "grid_template_columns": null,
            "grid_template_rows": null,
            "height": null,
            "justify_content": null,
            "justify_items": null,
            "left": null,
            "margin": null,
            "max_height": null,
            "max_width": null,
            "min_height": null,
            "min_width": null,
            "object_fit": null,
            "object_position": null,
            "order": null,
            "overflow": null,
            "overflow_x": null,
            "overflow_y": null,
            "padding": null,
            "right": null,
            "top": null,
            "visibility": null,
            "width": null
          }
        },
        "c17d2134e1834e4c9902f17730548d26": {
          "model_module": "@jupyter-widgets/controls",
          "model_module_version": "1.5.0",
          "model_name": "HBoxModel",
          "state": {
            "_dom_classes": [],
            "_model_module": "@jupyter-widgets/controls",
            "_model_module_version": "1.5.0",
            "_model_name": "HBoxModel",
            "_view_count": null,
            "_view_module": "@jupyter-widgets/controls",
            "_view_module_version": "1.5.0",
            "_view_name": "HBoxView",
            "box_style": "",
            "children": [
              "IPY_MODEL_4dcd740b85f34bb6bae436732c2e88c8",
              "IPY_MODEL_5286bb766cf0463c9a91986809c1a527",
              "IPY_MODEL_a1e30d88b37349ebb6053d0300c94de3"
            ],
            "layout": "IPY_MODEL_11c36dc93a6a400182688c0284e56ddf"
          }
        },
        "75ae480b64f24b27adfdb047385e67a6": {
          "model_module": "@jupyter-widgets/controls",
          "model_module_version": "1.5.0",
          "model_name": "DescriptionStyleModel",
          "state": {
            "_model_module": "@jupyter-widgets/controls",
            "_model_module_version": "1.5.0",
            "_model_name": "DescriptionStyleModel",
            "_view_count": null,
            "_view_module": "@jupyter-widgets/base",
            "_view_module_version": "1.2.0",
            "_view_name": "StyleView",
            "description_width": ""
          }
        },
        "78db04bd25da4a3cb2daa293e8e75e1f": {
          "model_module": "@jupyter-widgets/controls",
          "model_module_version": "1.5.0",
          "model_name": "ProgressStyleModel",
          "state": {
            "_model_module": "@jupyter-widgets/controls",
            "_model_module_version": "1.5.0",
            "_model_name": "ProgressStyleModel",
            "_view_count": null,
            "_view_module": "@jupyter-widgets/base",
            "_view_module_version": "1.2.0",
            "_view_name": "StyleView",
            "bar_color": null,
            "description_width": ""
          }
        },
        "34c00cec4f8a4b9d8463f1944ed32cb3": {
          "model_module": "@jupyter-widgets/base",
          "model_module_version": "1.2.0",
          "model_name": "LayoutModel",
          "state": {
            "_model_module": "@jupyter-widgets/base",
            "_model_module_version": "1.2.0",
            "_model_name": "LayoutModel",
            "_view_count": null,
            "_view_module": "@jupyter-widgets/base",
            "_view_module_version": "1.2.0",
            "_view_name": "LayoutView",
            "align_content": null,
            "align_items": null,
            "align_self": null,
            "border": null,
            "bottom": null,
            "display": null,
            "flex": null,
            "flex_flow": null,
            "grid_area": null,
            "grid_auto_columns": null,
            "grid_auto_flow": null,
            "grid_auto_rows": null,
            "grid_column": null,
            "grid_gap": null,
            "grid_row": null,
            "grid_template_areas": null,
            "grid_template_columns": null,
            "grid_template_rows": null,
            "height": null,
            "justify_content": null,
            "justify_items": null,
            "left": null,
            "margin": null,
            "max_height": null,
            "max_width": null,
            "min_height": null,
            "min_width": null,
            "object_fit": null,
            "object_position": null,
            "order": null,
            "overflow": null,
            "overflow_x": null,
            "overflow_y": null,
            "padding": null,
            "right": null,
            "top": null,
            "visibility": null,
            "width": null
          }
        },
        "f8239d57ed21495188312569ac81901a": {
          "model_module": "@jupyter-widgets/controls",
          "model_module_version": "1.5.0",
          "state": {
            "_model_module": "@jupyter-widgets/controls",
            "_model_module_version": "1.5.0",
            "_model_name": "DescriptionStyleModel",
            "_view_count": null,
            "_view_module": "@jupyter-widgets/base",
            "_view_module_version": "1.2.0",
            "_view_name": "StyleView",
            "description_width": ""
          }
        },
        "4e5c7ee94a584d649745d3f5a9dcccf7": {
          "model_module": "@jupyter-widgets/controls",
          "model_name": "HBoxModel",
          "model_module_version": "1.5.0",
          "state": {
            "_dom_classes": [],
            "_model_module": "@jupyter-widgets/controls",
            "_model_module_version": "1.5.0",
            "_model_name": "FloatProgressModel",
            "_view_count": null,
            "_view_module": "@jupyter-widgets/controls",
            "_view_module_version": "1.5.0",
            "_view_name": "HBoxView",
            "box_style": "",
            "children": [
              "IPY_MODEL_a0658758dea14655b58180a1fa185b5c",
              "IPY_MODEL_b867ba8fc4dc421b94e1bfcc00be529d",
              "IPY_MODEL_a4cb064adf8f45e186846aa35682f43f"
            ],
            "layout": "IPY_MODEL_ab24f328ef82466d93cd0c7eaf1f947c"
          }
        },
        "44485d0ffe3f41a3be4097752fa258aa": {
          "model_module": "@jupyter-widgets/controls",
          "model_module_version": "1.5.0",
          "model_name": "HTMLModel",
          "state": {
            "_dom_classes": [],
            "_model_module": "@jupyter-widgets/controls",
            "_model_module_version": "1.5.0",
            "_model_name": "HTMLModel",
            "_view_count": null,
            "_view_module": "@jupyter-widgets/controls",
            "_view_module_version": "1.5.0",
            "_view_name": "HTMLView",
            "description": "",
            "description_tooltip": null,
            "layout": "IPY_MODEL_ce4ba47878524f8bbb66a6e340eda288",
            "placeholder": "​",
            "style": "IPY_MODEL_85073b0548334b8ba893bbbc09dbef17",
            "value": "Generating train split: 100%"
          }
        },
        "b867ba8fc4dc421b94e1bfcc00be529d": {
          "model_module": "@jupyter-widgets/controls",
          "model_module_version": "1.5.0",
          "model_name": "HBoxModel",
          "state": {
            "_dom_classes": [],
            "_model_module": "@jupyter-widgets/controls",
            "_model_module_version": "1.5.0",
            "_model_name": "HBoxModel",
            "_view_count": null,
            "_view_module": "@jupyter-widgets/controls",
            "_view_module_version": "1.5.0",
            "_view_name": "HBoxView",
            "box_style": "",
            "children": [
              "IPY_MODEL_e0f1e6a25674481da55806197acdc4bb",
              "IPY_MODEL_8607ff7b35024330b496c40e6393d31c",
              "IPY_MODEL_0303279049dc499b9c4da81347b2a303"
            ],
            "layout": "IPY_MODEL_311823240bfb45c7bd52b694394de01c"
          }
        },
        "a1e30d88b37349ebb6053d0300c94de3": {
          "model_module": "@jupyter-widgets/controls",
          "model_module_version": "1.5.0",
          "model_name": "HTMLModel",
          "state": {
            "_dom_classes": [],
            "_model_module": "@jupyter-widgets/controls",
            "_model_module_version": "1.5.0",
            "_model_name": "HTMLModel",
            "_view_count": null,
            "_view_module": "@jupyter-widgets/controls",
            "_view_module_version": "1.5.0",
            "_view_name": "HTMLView",
            "description": "",
            "description_tooltip": null,
            "layout": "IPY_MODEL_3a95329c2ad44ce9acef021082135c78",
            "max": 9991,
            "min": 0,
            "orientation": "horizontal",
            "style": "IPY_MODEL_5f17d35d660640b79f6d6b051c654cca",
            "value": 9991
          }
        },
        "7b836857e7e14c00a2d7ec1849e1aa48": {
          "model_module": "@jupyter-widgets/controls",
          "model_module_version": "1.5.0",
          "model_name": "HTMLModel",
          "state": {
            "_dom_classes": [],
            "_model_module": "@jupyter-widgets/controls",
            "_model_module_version": "1.5.0",
            "_model_name": "HTMLModel",
            "_view_count": null,
            "_view_module": "@jupyter-widgets/controls",
            "_view_module_version": "1.5.0",
            "_view_name": "HTMLView",
            "description": "",
            "description_tooltip": null,
            "layout": "IPY_MODEL_1f29dc3cbfe4404aae75f38f9068ed00",
            "placeholder": "​",
            "style": "IPY_MODEL_1e3c6f56387d47c4b5f0a13506e4477a",
            "value": " 9991/9991 [00:01&lt;00:00, 10946.82 examples/s]"
          }
        },
        "bd9825d5397e495a83f2c9e5bf998949": {
          "model_module": "@jupyter-widgets/base",
          "model_module_version": "1.2.0",
          "model_name": "LayoutModel",
          "state": {
            "_model_module": "@jupyter-widgets/base",
            "_model_module_version": "1.2.0",
            "_model_name": "LayoutModel",
            "_view_count": null,
            "_view_module": "@jupyter-widgets/base",
            "_view_module_version": "1.2.0",
            "_view_name": "LayoutView",
            "align_content": null,
            "align_items": null,
            "align_self": null,
            "border": null,
            "bottom": null,
            "display": null,
            "flex": null,
            "flex_flow": null,
            "grid_area": null,
            "grid_auto_columns": null,
            "grid_auto_flow": null,
            "grid_auto_rows": null,
            "grid_column": null,
            "grid_gap": null,
            "grid_row": null,
            "grid_template_areas": null,
            "grid_template_columns": null,
            "grid_template_rows": null,
            "height": null,
            "justify_content": null,
            "justify_items": null,
            "left": null,
            "margin": null,
            "max_height": null,
            "max_width": null,
            "min_height": null,
            "min_width": null,
            "object_fit": null,
            "object_position": null,
            "order": null,
            "overflow": null,
            "overflow_x": null,
            "overflow_y": null,
            "padding": null,
            "right": null,
            "top": null,
            "visibility": null,
            "width": null
          }
        },
        "0882e4a130d64b8a92eb9fcda707f6fe": {
          "model_module": "@jupyter-widgets/base",
          "model_module_version": "1.2.0",
          "model_name": "LayoutModel",
          "state": {
            "_model_module": "@jupyter-widgets/base",
            "_model_module_version": "1.2.0",
            "_model_name": "LayoutModel",
            "_view_count": null,
            "_view_module": "@jupyter-widgets/base",
            "_view_module_version": "1.2.0",
            "_view_name": "LayoutView",
            "align_content": null,
            "align_items": null,
            "align_self": null,
            "border": null,
            "bottom": null,
            "display": null,
            "flex": null,
            "flex_flow": null,
            "grid_area": null,
            "grid_auto_columns": null,
            "grid_auto_flow": null,
            "grid_auto_rows": null,
            "grid_column": null,
            "grid_gap": null,
            "grid_row": null,
            "grid_template_areas": null,
            "grid_template_columns": null,
            "grid_template_rows": null,
            "height": null,
            "justify_content": null,
            "justify_items": null,
            "left": null,
            "margin": null,
            "max_height": null,
            "max_width": null,
            "min_height": null,
            "min_width": null,
            "object_fit": null,
            "object_position": null,
            "order": null,
            "overflow": null,
            "overflow_x": null,
            "overflow_y": null,
            "padding": null,
            "right": null,
            "top": null,
            "visibility": null,
            "width": null
          }
        },
        "4b8073a0ae234bd0b7b9894ec8327b8c": {
          "model_module": "@jupyter-widgets/controls",
          "model_module_version": "1.5.0",
          "model_name": "DescriptionStyleModel",
          "state": {
            "_model_module": "@jupyter-widgets/controls",
            "_model_module_version": "1.5.0",
            "_model_name": "DescriptionStyleModel",
            "_view_count": null,
            "_view_module": "@jupyter-widgets/base",
            "_view_module_version": "1.2.0",
            "_view_name": "StyleView",
            "description_width": ""
          }
        },
        "3a95329c2ad44ce9acef021082135c78": {
          "model_module": "@jupyter-widgets/base",
          "model_module_version": "1.2.0",
          "model_name": "LayoutModel",
          "state": {
            "_model_module": "@jupyter-widgets/base",
            "_model_module_version": "1.2.0",
            "_model_name": "LayoutModel",
            "_view_count": null,
            "_view_module": "@jupyter-widgets/base",
            "_view_module_version": "1.2.0",
            "_view_name": "LayoutView",
            "align_content": null,
            "align_items": null,
            "align_self": null,
            "border": null,
            "bottom": null,
            "display": null,
            "flex": null,
            "flex_flow": null,
            "grid_area": null,
            "grid_auto_columns": null,
            "grid_auto_flow": null,
            "grid_auto_rows": null,
            "grid_column": null,
            "grid_gap": null,
            "grid_row": null,
            "grid_template_areas": null,
            "grid_template_columns": null,
            "grid_template_rows": null,
            "height": null,
            "justify_content": null,
            "justify_items": null,
            "left": null,
            "margin": null,
            "max_height": null,
            "max_width": null,
            "min_height": null,
            "min_width": null,
            "object_fit": null,
            "object_position": null,
            "order": null,
            "overflow": null,
            "overflow_x": null,
            "overflow_y": null,
            "padding": null,
            "right": null,
            "top": null,
            "visibility": null,
            "width": null
          }
        },
        "5f17d35d660640b79f6d6b051c654cca": {
          "model_module": "@jupyter-widgets/controls",
          "model_module_version": "1.5.0",
          "model_name": "ProgressStyleModel",
          "state": {
            "_model_module": "@jupyter-widgets/controls",
            "_model_module_version": "1.5.0",
            "_model_name": "ProgressStyleModel",
            "_view_count": null,
            "_view_module": "@jupyter-widgets/base",
            "_view_module_version": "1.2.0",
            "_view_name": "StyleView",
            "bar_color": null,
            "description_width": ""
          }
        },
        "dda6a87d0804438188cfed3ba8d5c030": {
          "model_module": "@jupyter-widgets/base",
          "model_module_version": "1.2.0",
          "model_name": "LayoutModel",
          "state": {
            "_model_module": "@jupyter-widgets/base",
            "_model_module_version": "1.2.0",
            "_model_name": "LayoutModel",
            "_view_count": null,
            "_view_module": "@jupyter-widgets/base",
            "_view_module_version": "1.2.0",
            "_view_name": "LayoutView",
            "align_content": null,
            "align_items": null,
            "align_self": null,
            "border": null,
            "bottom": null,
            "display": null,
            "flex": null,
            "flex_flow": null,
            "grid_area": null,
            "grid_auto_columns": null,
            "grid_auto_flow": null,
            "grid_auto_rows": null,
            "grid_column": null,
            "grid_gap": null,
            "grid_row": null,
            "grid_template_areas": null,
            "grid_template_columns": null,
            "grid_template_rows": null,
            "height": null,
            "justify_content": null,
            "justify_items": null,
            "left": null,
            "margin": null,
            "max_height": null,
            "max_width": null,
            "min_height": null,
            "min_width": null,
            "object_fit": null,
            "object_position": null,
            "order": null,
            "overflow": null,
            "overflow_x": null,
            "overflow_y": null,
            "padding": null,
            "right": null,
            "top": null,
            "visibility": null,
            "width": null
          }
        },
        "dda6a87d0804438188cfed3ba8d5c030": {
          "model_module": "@jupyter-widgets/base",
          "model_module_version": "1.2.0",
          "model_name": "LayoutModel",
          "state": {
            "_model_module": "@jupyter-widgets/base",
            "_model_module_version": "1.2.0",
            "_model_name": "LayoutModel",
            "_view_count": null,
            "_view_module": "@jupyter-widgets/base",
            "_view_module_version": "1.2.0",
            "_view_name": "LayoutView",
            "align_content": null,
            "align_items": null,
            "align_self": null,
            "border": null,
            "bottom": null,
            "display": null,
            "flex": null,
            "flex_flow": null,
            "grid_area": null,
            "grid_auto_columns": null,
            "grid_auto_flow": null,
            "grid_auto_rows": null,
            "grid_column": null,
            "grid_gap": null,
            "grid_row": null,
            "grid_template_areas": null,
            "grid_template_columns": null,
            "grid_template_rows": null,
            "height": null,
            "justify_content": null,
            "justify_items": null,
            "left": null,
            "margin": null,
            "max_height": null,
            "max_width": null,
            "min_height": null,
            "min_width": null,
            "object_fit": null,
            "object_position": null,
            "order": null,
            "overflow": null,
            "overflow_x": null,
            "overflow_y": null,
            "padding": null,
            "right": null,
            "top": null,
            "visibility": null,
            "width": null
          }
        },
        "b6e31e7a7eef4663b9ca4d29cb181681": {
          "model_module": "@jupyter-widgets/controls",
          "model_module_version": "1.5.0",
          "model_name": "HTMLModel",
          "state": {
            "_dom_classes": [],
            "_model_module": "@jupyter-widgets/controls",
            "_model_module_version": "1.5.0",
            "_model_name": "HTMLModel",
            "_view_count": null,
            "_view_module": "@jupyter-widgets/controls",
            "_view_module_version": "1.5.0",
            "_view_name": "HTMLView",
            "description": "",
            "description_tooltip": null,
            "layout": "IPY_MODEL_ae444c02b3224c318db8ad13f13b1bbf",
            "placeholder": "​",
            "style": "IPY_MODEL_39eaef1233c646ef9fb7b10c4e0ef41f",
            "value": "data/train-00000-of-00001.parquet: 100%"
          }
        },
        "e408250c06fd464da16ccaaf3c5017a6": {
          "model_module": "@jupyter-widgets/controls",
          "model_module_version": "1.5.0",
          "model_name": "DescriptionStyleModel",
          "state": {
            "_model_module": "@jupyter-widgets/controls",
            "_model_module_version": "1.5.0",
            "_model_name": "DescriptionStyleModel",
            "_view_count": null,
            "_view_module": "@jupyter-widgets/base",
            "_view_module_version": "1.2.0",
            "_view_name": "StyleView",
            "description_width": ""
          }
        },
        "f8239d57ed21495188312569ac81901a": {
          "model_module": "@jupyter-widgets/controls",
          "model_module_version": "1.5.0",
          "model_name": "DescriptionStyleModel",
          "state": {
            "_model_module": "@jupyter-widgets/controls",
            "_model_module_version": "1.5.0",
            "_model_name": "DescriptionStyleModel",
            "_view_count": null,
            "_view_module": "@jupyter-widgets/base",
            "_view_module_version": "1.2.0",
            "_view_name": "StyleView",
            "description_width": ""
          }
        }
      }
    }
  },
  "nbformat": 4,
  "nbformat_minor": 5
}
